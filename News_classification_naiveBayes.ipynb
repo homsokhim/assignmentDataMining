{
 "cells": [
  {
   "cell_type": "code",
   "execution_count": 2,
   "id": "648ef916",
   "metadata": {
    "ExecuteTime": {
     "end_time": "2024-01-09T09:21:59.235243300Z",
     "start_time": "2024-01-09T09:21:58.606069500Z"
    }
   },
   "outputs": [],
   "source": [
    "import csv\n",
    "import pandas as pd"
   ]
  },
  {
   "cell_type": "code",
   "execution_count": 3,
   "id": "93e35d24",
   "metadata": {
    "ExecuteTime": {
     "end_time": "2024-01-09T09:22:00.552232400Z",
     "start_time": "2024-01-09T09:21:59.235243300Z"
    }
   },
   "outputs": [
    {
     "data": {
      "text/plain": "array(['b', 't', 'e', 'm'], dtype=object)"
     },
     "execution_count": 3,
     "metadata": {},
     "output_type": "execute_result"
    }
   ],
   "source": [
    "#Load data\n",
    "\n",
    "filename = 'uci-news-aggregator.csv'\n",
    "df = pd.read_csv(filename, sep= \",\")\n",
    "df.CATEGORY.unique()"
   ]
  },
  {
   "cell_type": "code",
   "execution_count": 11,
   "id": "e68a801e",
   "metadata": {
    "ExecuteTime": {
     "end_time": "2024-01-09T09:23:31.015911Z",
     "start_time": "2024-01-09T09:23:29.791175700Z"
    }
   },
   "outputs": [
    {
     "name": "stdout",
     "output_type": "stream",
     "text": [
      "0         fed official says weak data caused by weather ...\n",
      "1         feds charles plosser sees high bar for change ...\n",
      "2         us open stocks fall after fed official hints a...\n",
      "3         fed risks falling behind the curve charles plo...\n",
      "4          feds plosser nasty weather has curbed job growth\n",
      "                                ...                        \n",
      "422414    surgeons to remove 4yearolds rib to rebuild da...\n",
      "422415    boy to have surgery on esophagus after battery...\n",
      "422416    child who swallowed battery to have reconstruc...\n",
      "422417    phoenix boy undergoes surgery to repair throat...\n",
      "422418    phoenix boy undergoes surgery to repair throat...\n",
      "Name: TITLE, Length: 422419, dtype: object\n"
     ]
    }
   ],
   "source": [
    "#Prprocess data\n",
    "import string\n",
    "\n",
    "df['CATEGORY'] = df.CATEGORY.map({'b':1, 't':2, 'e':3, 'm':4})\n",
    "df['TITLE'] = df.TITLE.map(\n",
    "    lambda x: x.lower().translate(str.maketrans('','', string.punctuation))\n",
    ")\n",
    "\n",
    "print(df['TITLE'])"
   ]
  },
  {
   "cell_type": "code",
   "execution_count": 5,
   "id": "3b8745fb",
   "metadata": {
    "ExecuteTime": {
     "end_time": "2024-01-09T09:22:02.573741300Z",
     "start_time": "2024-01-09T09:22:01.660162500Z"
    }
   },
   "outputs": [
    {
     "name": "stdout",
     "output_type": "stream",
     "text": [
      "Training dataset:  316814\n",
      "Test dataset:  105605\n"
     ]
    }
   ],
   "source": [
    "#Split into train and test data sets\n",
    "from sklearn.model_selection import train_test_split\n",
    "\n",
    "X_train, X_test, Y_train, Y_test = train_test_split(\n",
    "    df['TITLE'], df['CATEGORY'], random_state = 1)\n",
    "print(\"Training dataset: \", X_train.shape[0])\n",
    "print(\"Test dataset: \", X_test.shape[0])"
   ]
  },
  {
   "cell_type": "code",
   "execution_count": 6,
   "id": "340099b9",
   "metadata": {
    "ExecuteTime": {
     "end_time": "2024-01-09T09:22:05.879604600Z",
     "start_time": "2024-01-09T09:22:02.573741300Z"
    }
   },
   "outputs": [],
   "source": [
    "# Extract features\n",
    "#Apply bag of words processing to the dataset\n",
    "\n",
    "from sklearn.feature_extraction.text import CountVectorizer\n",
    "\n",
    "count_vector = CountVectorizer(stop_words = 'english')\n",
    "training_data = count_vector.fit_transform(X_train)\n",
    "testing_data = count_vector.transform(X_test)"
   ]
  },
  {
   "cell_type": "code",
   "execution_count": 7,
   "id": "6b001dcf",
   "metadata": {
    "ExecuteTime": {
     "end_time": "2024-01-09T09:22:05.975297700Z",
     "start_time": "2024-01-09T09:22:05.879604600Z"
    }
   },
   "outputs": [
    {
     "data": {
      "text/plain": "MultinomialNB()",
      "text/html": "<style>#sk-container-id-1 {color: black;}#sk-container-id-1 pre{padding: 0;}#sk-container-id-1 div.sk-toggleable {background-color: white;}#sk-container-id-1 label.sk-toggleable__label {cursor: pointer;display: block;width: 100%;margin-bottom: 0;padding: 0.3em;box-sizing: border-box;text-align: center;}#sk-container-id-1 label.sk-toggleable__label-arrow:before {content: \"▸\";float: left;margin-right: 0.25em;color: #696969;}#sk-container-id-1 label.sk-toggleable__label-arrow:hover:before {color: black;}#sk-container-id-1 div.sk-estimator:hover label.sk-toggleable__label-arrow:before {color: black;}#sk-container-id-1 div.sk-toggleable__content {max-height: 0;max-width: 0;overflow: hidden;text-align: left;background-color: #f0f8ff;}#sk-container-id-1 div.sk-toggleable__content pre {margin: 0.2em;color: black;border-radius: 0.25em;background-color: #f0f8ff;}#sk-container-id-1 input.sk-toggleable__control:checked~div.sk-toggleable__content {max-height: 200px;max-width: 100%;overflow: auto;}#sk-container-id-1 input.sk-toggleable__control:checked~label.sk-toggleable__label-arrow:before {content: \"▾\";}#sk-container-id-1 div.sk-estimator input.sk-toggleable__control:checked~label.sk-toggleable__label {background-color: #d4ebff;}#sk-container-id-1 div.sk-label input.sk-toggleable__control:checked~label.sk-toggleable__label {background-color: #d4ebff;}#sk-container-id-1 input.sk-hidden--visually {border: 0;clip: rect(1px 1px 1px 1px);clip: rect(1px, 1px, 1px, 1px);height: 1px;margin: -1px;overflow: hidden;padding: 0;position: absolute;width: 1px;}#sk-container-id-1 div.sk-estimator {font-family: monospace;background-color: #f0f8ff;border: 1px dotted black;border-radius: 0.25em;box-sizing: border-box;margin-bottom: 0.5em;}#sk-container-id-1 div.sk-estimator:hover {background-color: #d4ebff;}#sk-container-id-1 div.sk-parallel-item::after {content: \"\";width: 100%;border-bottom: 1px solid gray;flex-grow: 1;}#sk-container-id-1 div.sk-label:hover label.sk-toggleable__label {background-color: #d4ebff;}#sk-container-id-1 div.sk-serial::before {content: \"\";position: absolute;border-left: 1px solid gray;box-sizing: border-box;top: 0;bottom: 0;left: 50%;z-index: 0;}#sk-container-id-1 div.sk-serial {display: flex;flex-direction: column;align-items: center;background-color: white;padding-right: 0.2em;padding-left: 0.2em;position: relative;}#sk-container-id-1 div.sk-item {position: relative;z-index: 1;}#sk-container-id-1 div.sk-parallel {display: flex;align-items: stretch;justify-content: center;background-color: white;position: relative;}#sk-container-id-1 div.sk-item::before, #sk-container-id-1 div.sk-parallel-item::before {content: \"\";position: absolute;border-left: 1px solid gray;box-sizing: border-box;top: 0;bottom: 0;left: 50%;z-index: -1;}#sk-container-id-1 div.sk-parallel-item {display: flex;flex-direction: column;z-index: 1;position: relative;background-color: white;}#sk-container-id-1 div.sk-parallel-item:first-child::after {align-self: flex-end;width: 50%;}#sk-container-id-1 div.sk-parallel-item:last-child::after {align-self: flex-start;width: 50%;}#sk-container-id-1 div.sk-parallel-item:only-child::after {width: 0;}#sk-container-id-1 div.sk-dashed-wrapped {border: 1px dashed gray;margin: 0 0.4em 0.5em 0.4em;box-sizing: border-box;padding-bottom: 0.4em;background-color: white;}#sk-container-id-1 div.sk-label label {font-family: monospace;font-weight: bold;display: inline-block;line-height: 1.2em;}#sk-container-id-1 div.sk-label-container {text-align: center;}#sk-container-id-1 div.sk-container {/* jupyter's `normalize.less` sets `[hidden] { display: none; }` but bootstrap.min.css set `[hidden] { display: none !important; }` so we also need the `!important` here to be able to override the default hidden behavior on the sphinx rendered scikit-learn.org. See: https://github.com/scikit-learn/scikit-learn/issues/21755 */display: inline-block !important;position: relative;}#sk-container-id-1 div.sk-text-repr-fallback {display: none;}</style><div id=\"sk-container-id-1\" class=\"sk-top-container\"><div class=\"sk-text-repr-fallback\"><pre>MultinomialNB()</pre><b>In a Jupyter environment, please rerun this cell to show the HTML representation or trust the notebook. <br />On GitHub, the HTML representation is unable to render, please try loading this page with nbviewer.org.</b></div><div class=\"sk-container\" hidden><div class=\"sk-item\"><div class=\"sk-estimator sk-toggleable\"><input class=\"sk-toggleable__control sk-hidden--visually\" id=\"sk-estimator-id-1\" type=\"checkbox\" checked><label for=\"sk-estimator-id-1\" class=\"sk-toggleable__label sk-toggleable__label-arrow\">MultinomialNB</label><div class=\"sk-toggleable__content\"><pre>MultinomialNB()</pre></div></div></div></div></div>"
     },
     "execution_count": 7,
     "metadata": {},
     "output_type": "execute_result"
    }
   ],
   "source": [
    "#Train Multinomial Naive Bayes classifier\n",
    "\n",
    "from sklearn.naive_bayes import MultinomialNB\n",
    "\n",
    "naive_bayes = MultinomialNB()\n",
    "naive_bayes.fit(training_data, Y_train)"
   ]
  },
  {
   "cell_type": "code",
   "execution_count": 8,
   "id": "f0b43d0e",
   "metadata": {
    "ExecuteTime": {
     "end_time": "2024-01-09T09:22:05.999496500Z",
     "start_time": "2024-01-09T09:22:05.975297700Z"
    }
   },
   "outputs": [
    {
     "data": {
      "text/plain": "array([1, 1, 3, ..., 1, 1, 4], dtype=int64)"
     },
     "execution_count": 8,
     "metadata": {},
     "output_type": "execute_result"
    }
   ],
   "source": [
    "predictions = naive_bayes.predict(testing_data)\n",
    "predictions"
   ]
  },
  {
   "cell_type": "code",
   "execution_count": 9,
   "id": "ec032df3",
   "metadata": {
    "ExecuteTime": {
     "end_time": "2024-01-09T09:22:06.094547600Z",
     "start_time": "2024-01-09T09:22:05.999496500Z"
    }
   },
   "outputs": [
    {
     "name": "stdout",
     "output_type": "stream",
     "text": [
      "Accuracy score:  0.9283367264807537\n",
      "Recall score:  0.9283367264807537\n",
      "Precision score:  0.9284057938650963\n",
      "F1 score:  0.9283611479662869\n"
     ]
    }
   ],
   "source": [
    "from sklearn.metrics import accuracy_score, recall_score, precision_score, f1_score\n",
    "\n",
    "print(\"Accuracy score: \", accuracy_score(Y_test, predictions))\n",
    "print(\"Recall score: \", recall_score(Y_test, predictions, average = 'weighted'))\n",
    "print(\"Precision score: \", precision_score(Y_test, predictions, average = 'weighted'))\n",
    "print(\"F1 score: \", f1_score(Y_test, predictions, average = 'weighted'))"
   ]
  }
 ],
 "metadata": {
  "kernelspec": {
   "display_name": "Python 3 (ipykernel)",
   "language": "python",
   "name": "python3"
  },
  "language_info": {
   "codemirror_mode": {
    "name": "ipython",
    "version": 3
   },
   "file_extension": ".py",
   "mimetype": "text/x-python",
   "name": "python",
   "nbconvert_exporter": "python",
   "pygments_lexer": "ipython3",
   "version": "3.11.5"
  }
 },
 "nbformat": 4,
 "nbformat_minor": 5
}
