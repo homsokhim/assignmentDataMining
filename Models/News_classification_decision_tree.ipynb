{
 "cells": [
  {
   "cell_type": "code",
   "execution_count": 141,
   "id": "ab0718c8",
   "metadata": {
    "ExecuteTime": {
     "end_time": "2024-01-12T17:35:09.131690100Z",
     "start_time": "2024-01-12T17:35:09.099615700Z"
    }
   },
   "outputs": [
    {
     "name": "stderr",
     "output_type": "stream",
     "text": [
      "[nltk_data] Downloading package stopwords to\n",
      "[nltk_data]     C:\\Users\\Admin\\AppData\\Roaming\\nltk_data...\n",
      "[nltk_data]   Package stopwords is already up-to-date!\n"
     ]
    },
    {
     "data": {
      "text/plain": "True"
     },
     "execution_count": 141,
     "metadata": {},
     "output_type": "execute_result"
    }
   ],
   "source": [
    "import pandas as pd\n",
    "import re\n",
    "from sklearn.feature_extraction.text import CountVectorizer \n",
    "from sklearn.tree import DecisionTreeClassifier\n",
    "from sklearn.preprocessing import LabelEncoder\n",
    "from sklearn.metrics import accuracy_score, precision_score, recall_score, f1_score\n",
    "from nltk.corpus import stopwords\n",
    "import nltk\n",
    "from sklearn.model_selection import train_test_split\n",
    "nltk.download('stopwords')"
   ]
  },
  {
   "cell_type": "code",
   "execution_count": 142,
   "id": "4f4b5269",
   "metadata": {
    "ExecuteTime": {
     "end_time": "2024-01-12T17:35:09.188309800Z",
     "start_time": "2024-01-12T17:35:09.115606200Z"
    }
   },
   "outputs": [
    {
     "data": {
      "text/plain": "array(['world', 'business', 'politics', 'health', 'entertainment',\n       'sport'], dtype=object)"
     },
     "execution_count": 142,
     "metadata": {},
     "output_type": "execute_result"
    }
   ],
   "source": [
    "filename = 'datasets/news_dataset.csv'\n",
    "df = pd.read_csv(filename)\n",
    "df.Category.unique()"
   ]
  },
  {
   "cell_type": "code",
   "execution_count": 143,
   "outputs": [],
   "source": [
    "df.dropna(inplace = True)\n",
    "df.drop_duplicates(inplace= True)"
   ],
   "metadata": {
    "collapsed": false,
    "ExecuteTime": {
     "end_time": "2024-01-12T17:35:09.291238800Z",
     "start_time": "2024-01-12T17:35:09.140396300Z"
    }
   },
   "id": "ec014ddb52403655"
  },
  {
   "cell_type": "code",
   "execution_count": 144,
   "outputs": [],
   "source": [
    "def clean_text(text):\n",
    "    text = re.sub(r'[^a-zA-Z]', ' ', text)  # Remove non-alphabetic characters\n",
    "    text = text.lower()  # Convert to lowercase\n",
    "    text = text.split()  # Tokenize the text\n",
    "    stop_words = set(stopwords.words('english'))\n",
    "    text = [word for word in text if word not in stop_words]  # Remove stopwords\n",
    "    text = ' '.join(text)  # Join the tokens back into a string\n",
    "    return text\n",
    "\n",
    "df['Title'] = df['Title'].apply(clean_text)"
   ],
   "metadata": {
    "collapsed": false,
    "ExecuteTime": {
     "end_time": "2024-01-12T17:35:09.470561900Z",
     "start_time": "2024-01-12T17:35:09.141394900Z"
    }
   },
   "id": "de3b4c0ea5ab1eec"
  },
  {
   "cell_type": "code",
   "execution_count": 145,
   "id": "db3d1bf6",
   "metadata": {
    "ExecuteTime": {
     "end_time": "2024-01-12T17:35:09.491375200Z",
     "start_time": "2024-01-12T17:35:09.486075Z"
    }
   },
   "outputs": [
    {
     "name": "stdout",
     "output_type": "stream",
     "text": [
      "Training dataset:  1294\n",
      "Test dataset:  324\n"
     ]
    }
   ],
   "source": [
    "import string\n",
    "# Select the relevant columns (ID and TITLE)\n",
    "df = df[['Title','Category']]\n",
    "\n",
    "df['Category'] = df.Category.map({'world':1, 'business':2, 'politics':3, 'health':4,'entertainment': 5, 'sport': 6})\n",
    "df['Title'] = df.Title.map(\n",
    "    lambda x: x.lower().translate(str.maketrans('','', string.punctuation))\n",
    ")\n",
    "\n",
    "label_encoder = LabelEncoder()\n",
    "df['Category'] = label_encoder.fit_transform(df['Category'])\n",
    "\n",
    "# # Split the data into training and testing sets\n",
    "x_train,x_test,y_train, y_test = train_test_split(df['Title'], df['Category'], test_size=0.2, random_state = 42)\n",
    "print(\"Training dataset: \", x_train.shape[0])\n",
    "print(\"Test dataset: \", x_test.shape[0])"
   ]
  },
  {
   "cell_type": "code",
   "execution_count": 146,
   "id": "75e438d7",
   "metadata": {
    "ExecuteTime": {
     "end_time": "2024-01-12T17:35:09.595928600Z",
     "start_time": "2024-01-12T17:35:09.501978800Z"
    }
   },
   "outputs": [],
   "source": [
    "\n",
    "count_vector = CountVectorizer(stop_words=\"english\")\n",
    "    \n",
    "x_training = count_vector.fit_transform(x_train)\n",
    "x_testing = count_vector.transform(x_test)"
   ]
  },
  {
   "cell_type": "code",
   "execution_count": 147,
   "id": "1c4a9ab1",
   "metadata": {
    "ExecuteTime": {
     "end_time": "2024-01-12T17:35:10.206173300Z",
     "start_time": "2024-01-12T17:35:09.595928600Z"
    }
   },
   "outputs": [
    {
     "data": {
      "text/plain": "DecisionTreeClassifier()",
      "text/html": "<style>#sk-container-id-6 {color: black;}#sk-container-id-6 pre{padding: 0;}#sk-container-id-6 div.sk-toggleable {background-color: white;}#sk-container-id-6 label.sk-toggleable__label {cursor: pointer;display: block;width: 100%;margin-bottom: 0;padding: 0.3em;box-sizing: border-box;text-align: center;}#sk-container-id-6 label.sk-toggleable__label-arrow:before {content: \"▸\";float: left;margin-right: 0.25em;color: #696969;}#sk-container-id-6 label.sk-toggleable__label-arrow:hover:before {color: black;}#sk-container-id-6 div.sk-estimator:hover label.sk-toggleable__label-arrow:before {color: black;}#sk-container-id-6 div.sk-toggleable__content {max-height: 0;max-width: 0;overflow: hidden;text-align: left;background-color: #f0f8ff;}#sk-container-id-6 div.sk-toggleable__content pre {margin: 0.2em;color: black;border-radius: 0.25em;background-color: #f0f8ff;}#sk-container-id-6 input.sk-toggleable__control:checked~div.sk-toggleable__content {max-height: 200px;max-width: 100%;overflow: auto;}#sk-container-id-6 input.sk-toggleable__control:checked~label.sk-toggleable__label-arrow:before {content: \"▾\";}#sk-container-id-6 div.sk-estimator input.sk-toggleable__control:checked~label.sk-toggleable__label {background-color: #d4ebff;}#sk-container-id-6 div.sk-label input.sk-toggleable__control:checked~label.sk-toggleable__label {background-color: #d4ebff;}#sk-container-id-6 input.sk-hidden--visually {border: 0;clip: rect(1px 1px 1px 1px);clip: rect(1px, 1px, 1px, 1px);height: 1px;margin: -1px;overflow: hidden;padding: 0;position: absolute;width: 1px;}#sk-container-id-6 div.sk-estimator {font-family: monospace;background-color: #f0f8ff;border: 1px dotted black;border-radius: 0.25em;box-sizing: border-box;margin-bottom: 0.5em;}#sk-container-id-6 div.sk-estimator:hover {background-color: #d4ebff;}#sk-container-id-6 div.sk-parallel-item::after {content: \"\";width: 100%;border-bottom: 1px solid gray;flex-grow: 1;}#sk-container-id-6 div.sk-label:hover label.sk-toggleable__label {background-color: #d4ebff;}#sk-container-id-6 div.sk-serial::before {content: \"\";position: absolute;border-left: 1px solid gray;box-sizing: border-box;top: 0;bottom: 0;left: 50%;z-index: 0;}#sk-container-id-6 div.sk-serial {display: flex;flex-direction: column;align-items: center;background-color: white;padding-right: 0.2em;padding-left: 0.2em;position: relative;}#sk-container-id-6 div.sk-item {position: relative;z-index: 1;}#sk-container-id-6 div.sk-parallel {display: flex;align-items: stretch;justify-content: center;background-color: white;position: relative;}#sk-container-id-6 div.sk-item::before, #sk-container-id-6 div.sk-parallel-item::before {content: \"\";position: absolute;border-left: 1px solid gray;box-sizing: border-box;top: 0;bottom: 0;left: 50%;z-index: -1;}#sk-container-id-6 div.sk-parallel-item {display: flex;flex-direction: column;z-index: 1;position: relative;background-color: white;}#sk-container-id-6 div.sk-parallel-item:first-child::after {align-self: flex-end;width: 50%;}#sk-container-id-6 div.sk-parallel-item:last-child::after {align-self: flex-start;width: 50%;}#sk-container-id-6 div.sk-parallel-item:only-child::after {width: 0;}#sk-container-id-6 div.sk-dashed-wrapped {border: 1px dashed gray;margin: 0 0.4em 0.5em 0.4em;box-sizing: border-box;padding-bottom: 0.4em;background-color: white;}#sk-container-id-6 div.sk-label label {font-family: monospace;font-weight: bold;display: inline-block;line-height: 1.2em;}#sk-container-id-6 div.sk-label-container {text-align: center;}#sk-container-id-6 div.sk-container {/* jupyter's `normalize.less` sets `[hidden] { display: none; }` but bootstrap.min.css set `[hidden] { display: none !important; }` so we also need the `!important` here to be able to override the default hidden behavior on the sphinx rendered scikit-learn.org. See: https://github.com/scikit-learn/scikit-learn/issues/21755 */display: inline-block !important;position: relative;}#sk-container-id-6 div.sk-text-repr-fallback {display: none;}</style><div id=\"sk-container-id-6\" class=\"sk-top-container\"><div class=\"sk-text-repr-fallback\"><pre>DecisionTreeClassifier()</pre><b>In a Jupyter environment, please rerun this cell to show the HTML representation or trust the notebook. <br />On GitHub, the HTML representation is unable to render, please try loading this page with nbviewer.org.</b></div><div class=\"sk-container\" hidden><div class=\"sk-item\"><div class=\"sk-estimator sk-toggleable\"><input class=\"sk-toggleable__control sk-hidden--visually\" id=\"sk-estimator-id-6\" type=\"checkbox\" checked><label for=\"sk-estimator-id-6\" class=\"sk-toggleable__label sk-toggleable__label-arrow\">DecisionTreeClassifier</label><div class=\"sk-toggleable__content\"><pre>DecisionTreeClassifier()</pre></div></div></div></div></div>"
     },
     "execution_count": 147,
     "metadata": {},
     "output_type": "execute_result"
    }
   ],
   "source": [
    "# Initialize the Decision Tree classifier\n",
    "clf = DecisionTreeClassifier()\n",
    "# Train the classifier\n",
    "\n",
    "clf.fit(x_training,y_train)"
   ]
  },
  {
   "cell_type": "code",
   "execution_count": 147,
   "outputs": [],
   "source": [],
   "metadata": {
    "collapsed": false,
    "ExecuteTime": {
     "end_time": "2024-01-12T17:35:10.206173300Z",
     "start_time": "2024-01-12T17:35:10.206173300Z"
    }
   },
   "id": "1dba417541b94cc4"
  },
  {
   "cell_type": "code",
   "execution_count": 148,
   "outputs": [
    {
     "name": "stdout",
     "output_type": "stream",
     "text": [
      "[0 0 3 5 5 3 5 0 0 4 1 4 5 0 0 0 0 0 4 0 0 0 4 0 5 4 0 0 3 0 4 0 1 1 0 0 4\n",
      " 3 3 0 0 0 0 1 4 3 4 2 0 0 5 5 0 4 5 0 3 0 0 5 1 2 1 5 1 3 4 4 2 5 0 0 4 2\n",
      " 5 2 0 1 1 5 0 0 0 0 3 0 0 4 1 0 0 5 5 4 5 4 1 4 4 5 1 4 4 0 0 1 3 0 4 0 5\n",
      " 1 1 1 1 1 0 0 1 0 1 3 4 4 1 1 1 3 0 3 0 5 0 3 0 0 0 2 3 1 5 0 4 1 3 3 1 5\n",
      " 1 0 3 1 2 5 0 0 5 0 4 1 1 0 0 4 0 5 4 0 3 3 3 0 5 1 5 0 0 3 0 5 2 0 3 0 4\n",
      " 1 5 4 0 5 2 4 5 5 3 4 5 2 3 0 2 0 0 5 1 1 0 0 4 0 0 0 0 4 4 5 2 1 0 0 0 0\n",
      " 0 2 1 0 0 0 1 1 0 4 4 1 4 3 1 3 3 1 3 4 0 3 2 5 5 1 0 3 1 0 3 1 5 1 0 5 1\n",
      " 2 1 0 1 1 0 0 0 0 1 4 0 5 3 5 1 5 0 0 0 3 2 5 0 4 1 4 1 5 0 0 0 0 5 0 1 0\n",
      " 3 2 0 5 4 3 0 5 0 0 0 2 0 0 4 4 3 1 0 5 4 0 5 0 3 0 1 0]\n"
     ]
    }
   ],
   "source": [
    "#make prediction on the testing data\n",
    "y_pred = clf.predict(x_testing)\n",
    "print(y_pred)"
   ],
   "metadata": {
    "collapsed": false,
    "ExecuteTime": {
     "end_time": "2024-01-12T17:35:10.218354100Z",
     "start_time": "2024-01-12T17:35:10.214190700Z"
    }
   },
   "id": "92880442"
  },
  {
   "cell_type": "code",
   "execution_count": 149,
   "id": "f6618dc1",
   "metadata": {
    "ExecuteTime": {
     "end_time": "2024-01-12T17:35:10.262032100Z",
     "start_time": "2024-01-12T17:35:10.218354100Z"
    }
   },
   "outputs": [],
   "source": [
    "accuracy = accuracy_score(y_test, y_pred)\n",
    "precision = precision_score(y_test, y_pred, average='macro')\n",
    "recall = recall_score(y_test, y_pred, average='macro')\n",
    "F1_score = f1_score(y_test, y_pred, average='macro')"
   ]
  },
  {
   "cell_type": "code",
   "execution_count": 150,
   "outputs": [
    {
     "name": "stdout",
     "output_type": "stream",
     "text": [
      "Accuracy:  0.6790123456790124\n",
      "Precision:  0.7190522261536194\n",
      "Recall:  0.6824961171862349\n",
      "F1_Score:  0.6886636834487168\n"
     ]
    }
   ],
   "source": [
    "print(\"Accuracy: \", accuracy)\n",
    "print(\"Precision: \", precision)\n",
    "print(\"Recall: \", recall)\n",
    "print(\"F1_Score: \", F1_score)"
   ],
   "metadata": {
    "collapsed": false,
    "ExecuteTime": {
     "end_time": "2024-01-12T17:35:10.262032100Z",
     "start_time": "2024-01-12T17:35:10.245963200Z"
    }
   },
   "id": "33c3f7938ee2860b"
  }
 ],
 "metadata": {
  "kernelspec": {
   "display_name": "Python 3 (ipykernel)",
   "language": "python",
   "name": "python3"
  },
  "language_info": {
   "codemirror_mode": {
    "name": "ipython",
    "version": 3
   },
   "file_extension": ".py",
   "mimetype": "text/x-python",
   "name": "python",
   "nbconvert_exporter": "python",
   "pygments_lexer": "ipython3",
   "version": "3.11.5"
  }
 },
 "nbformat": 4,
 "nbformat_minor": 5
}
