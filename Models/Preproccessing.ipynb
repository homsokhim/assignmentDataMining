{
 "cells": [
  {
   "cell_type": "code",
   "execution_count": 1,
   "id": "648ef916",
   "metadata": {
    "ExecuteTime": {
     "end_time": "2024-01-12T16:58:48.277012500Z",
     "start_time": "2024-01-12T16:58:43.417327900Z"
    }
   },
   "outputs": [
    {
     "name": "stderr",
     "output_type": "stream",
     "text": [
      "[nltk_data] Downloading package stopwords to\n",
      "[nltk_data]     C:\\Users\\Admin\\AppData\\Roaming\\nltk_data...\n",
      "[nltk_data]   Package stopwords is already up-to-date!\n"
     ]
    },
    {
     "data": {
      "text/plain": "True"
     },
     "execution_count": 1,
     "metadata": {},
     "output_type": "execute_result"
    }
   ],
   "source": [
    "import pandas as pd\n",
    "import re\n",
    "from nltk.corpus import stopwords\n",
    "import nltk\n",
    "from sklearn.preprocessing import LabelEncoder\n",
    "from sklearn.model_selection import train_test_split\n",
    "nltk.download('stopwords')"
   ]
  },
  {
   "cell_type": "code",
   "execution_count": 12,
   "id": "93e35d24",
   "metadata": {
    "ExecuteTime": {
     "end_time": "2024-01-12T17:03:24.508451400Z",
     "start_time": "2024-01-12T17:03:24.476923Z"
    }
   },
   "outputs": [
    {
     "data": {
      "text/plain": "array(['world', 'business', 'politics', 'health', 'entertainment',\n       'sport'], dtype=object)"
     },
     "execution_count": 12,
     "metadata": {},
     "output_type": "execute_result"
    }
   ],
   "source": [
    "df = pd.read_csv('datasets/news_dataset.csv')\n",
    "df['Category'].unique()"
   ]
  },
  {
   "cell_type": "code",
   "execution_count": null,
   "id": "3b8745fb",
   "metadata": {
    "ExecuteTime": {
     "start_time": "2024-01-12T16:58:49.843156600Z"
    }
   },
   "outputs": [],
   "source": [
    "df.dropna(inplace = True)\n",
    "df.drop_duplicates(inplace= True)"
   ]
  },
  {
   "cell_type": "code",
   "execution_count": null,
   "outputs": [],
   "source": [
    "def clean_text(text):\n",
    "    text = re.sub(r'[^a-zA-Z]', ' ', text)  # Remove non-alphabetic characters\n",
    "    text = text.lower()  # Convert to lowercase\n",
    "    text = text.split()  # Tokenize the text\n",
    "    stop_words = set(stopwords.words('english'))\n",
    "    text = [word for word in text if word not in stop_words]  # Remove stopwords\n",
    "    text = ' '.join(text)  # Join the tokens back into a string\n",
    "    return text\n",
    "\n",
    "df['Title'] = df['Title'].apply(clean_text)"
   ],
   "metadata": {
    "collapsed": false,
    "ExecuteTime": {
     "end_time": "2024-01-12T16:58:49.874960100Z",
     "start_time": "2024-01-12T16:58:49.859297300Z"
    }
   },
   "id": "2a503d9b7f4e7cf0"
  },
  {
   "cell_type": "code",
   "execution_count": null,
   "id": "f0b43d0e",
   "metadata": {
    "ExecuteTime": {
     "start_time": "2024-01-12T16:58:49.874960100Z"
    }
   },
   "outputs": [],
   "source": [
    "\n",
    "label_encoder = LabelEncoder()\n",
    "df['Category'] = label_encoder.fit_transform(df['Category'])"
   ]
  },
  {
   "cell_type": "code",
   "execution_count": null,
   "id": "ec032df3",
   "metadata": {
    "ExecuteTime": {
     "start_time": "2024-01-12T16:58:49.874960100Z"
    }
   },
   "outputs": [],
   "source": [
    "X = df['Title']\n",
    "y = df['Category']\n",
    "\n",
    "# Split into training and testing sets\n",
    "X_train, X_test, y_train, y_test = train_test_split(X, y, test_size=0.2, random_state=42)\n",
    "print(X)\n",
    "print(y)"
   ]
  },
  {
   "cell_type": "code",
   "execution_count": null,
   "id": "8a6d6182",
   "metadata": {
    "ExecuteTime": {
     "start_time": "2024-01-12T16:58:49.874960100Z"
    }
   },
   "outputs": [],
   "source": []
  },
  {
   "cell_type": "code",
   "execution_count": null,
   "id": "ce164dd5",
   "metadata": {
    "ExecuteTime": {
     "start_time": "2024-01-12T16:58:49.874960100Z"
    }
   },
   "outputs": [],
   "source": []
  }
 ],
 "metadata": {
  "kernelspec": {
   "display_name": "Python 3 (ipykernel)",
   "language": "python",
   "name": "python3"
  },
  "language_info": {
   "codemirror_mode": {
    "name": "ipython",
    "version": 3
   },
   "file_extension": ".py",
   "mimetype": "text/x-python",
   "name": "python",
   "nbconvert_exporter": "python",
   "pygments_lexer": "ipython3",
   "version": "3.11.5"
  }
 },
 "nbformat": 4,
 "nbformat_minor": 5
}
