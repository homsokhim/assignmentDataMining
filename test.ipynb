{
 "cells": [
  {
   "cell_type": "code",
   "execution_count": 74,
   "id": "initial_id",
   "metadata": {
    "collapsed": true,
    "ExecuteTime": {
     "end_time": "2024-01-12T15:26:57.099446100Z",
     "start_time": "2024-01-12T15:26:57.067994Z"
    }
   },
   "outputs": [
    {
     "name": "stderr",
     "output_type": "stream",
     "text": [
      "[nltk_data] Downloading package stopwords to\n",
      "[nltk_data]     C:\\Users\\Admin\\AppData\\Roaming\\nltk_data...\n",
      "[nltk_data]   Package stopwords is already up-to-date!\n"
     ]
    },
    {
     "data": {
      "text/plain": "True"
     },
     "execution_count": 74,
     "metadata": {},
     "output_type": "execute_result"
    }
   ],
   "source": [
    "import pandas as pd\n",
    "import re\n",
    "from nltk.corpus import stopwords\n",
    "import nltk\n",
    "from sklearn.preprocessing import LabelEncoder\n",
    "from sklearn.model_selection import train_test_split\n",
    "nltk.download('stopwords')"
   ]
  },
  {
   "cell_type": "code",
   "execution_count": 75,
   "outputs": [
    {
     "data": {
      "text/plain": "array(['world', 'business', 'politics', 'health', 'entertainment'],\n      dtype=object)"
     },
     "execution_count": 75,
     "metadata": {},
     "output_type": "execute_result"
    }
   ],
   "source": [
    "df = pd.read_csv('cnn_world_news.csv')\n",
    "df['Category'].unique()"
   ],
   "metadata": {
    "collapsed": false,
    "ExecuteTime": {
     "end_time": "2024-01-12T15:26:57.131985500Z",
     "start_time": "2024-01-12T15:26:57.085917500Z"
    }
   },
   "id": "946f74d0993edafd"
  },
  {
   "cell_type": "code",
   "execution_count": 76,
   "outputs": [
    {
     "data": {
      "text/plain": "8"
     },
     "execution_count": 76,
     "metadata": {},
     "output_type": "execute_result"
    }
   ],
   "source": [
    "df['Title'].duplicated().sum()"
   ],
   "metadata": {
    "collapsed": false,
    "ExecuteTime": {
     "end_time": "2024-01-12T15:26:57.131985500Z",
     "start_time": "2024-01-12T15:26:57.106133800Z"
    }
   },
   "id": "f56c7fa1b514a9ef"
  },
  {
   "cell_type": "code",
   "execution_count": 77,
   "outputs": [],
   "source": [
    "def clean_text(text):\n",
    "    text = re.sub(r'[^a-zA-Z]', ' ', text)  # Remove non-alphabetic characters\n",
    "    text = text.lower()  # Convert to lowercase\n",
    "    text = text.split()  # Tokenize the text\n",
    "    stop_words = set(stopwords.words('english'))\n",
    "    text = [word for word in text if word not in stop_words]  # Remove stopwords\n",
    "    text = ' '.join(text)  # Join the tokens back into a string\n",
    "    return text\n",
    "\n",
    "df['Title'] = df['Title'].apply(clean_text)\n"
   ],
   "metadata": {
    "collapsed": false,
    "ExecuteTime": {
     "end_time": "2024-01-12T15:26:57.197380200Z",
     "start_time": "2024-01-12T15:26:57.123580700Z"
    }
   },
   "id": "6a27e5afb17689d9"
  },
  {
   "cell_type": "code",
   "execution_count": 78,
   "outputs": [],
   "source": [
    "\n",
    "label_encoder = LabelEncoder()\n",
    "df['Category'] = label_encoder.fit_transform(df['Category'])"
   ],
   "metadata": {
    "collapsed": false,
    "ExecuteTime": {
     "end_time": "2024-01-12T15:26:57.197380200Z",
     "start_time": "2024-01-12T15:26:57.191269900Z"
    }
   },
   "id": "7c60a7b78f69a414"
  },
  {
   "cell_type": "code",
   "execution_count": 79,
   "outputs": [
    {
     "name": "stdout",
     "output_type": "stream",
     "text": [
      "0       us strikes houthi targets israel hamas war rages\n",
      "1      thailand moves ban recreational cannabis use m...\n",
      "2      visual guide taiwan high stakes presidential e...\n",
      "3          kind weapons us uk using strike yemen houthis\n",
      "4                               january israel hamas war\n",
      "                             ...                        \n",
      "273    leave world behind delivers sobering jolt mr r...\n",
      "274    ferrari picks wrong driver michael mann car ra...\n",
      "275                  golden globes see full list winners\n",
      "276     barbie movie considered adapted screenplay means\n",
      "277    maestro picks tune bradley cooper started star...\n",
      "Name: Title, Length: 278, dtype: object\n",
      "0      4\n",
      "1      4\n",
      "2      4\n",
      "3      4\n",
      "4      4\n",
      "      ..\n",
      "273    1\n",
      "274    1\n",
      "275    1\n",
      "276    1\n",
      "277    1\n",
      "Name: Category, Length: 278, dtype: int32\n"
     ]
    }
   ],
   "source": [
    "X = df['Title']\n",
    "y = df['Category']\n",
    "\n",
    "# Split into training and testing sets\n",
    "X_train, X_test, y_train, y_test = train_test_split(X, y, test_size=0.2, random_state=42)\n",
    "print(X)\n",
    "print(y)"
   ],
   "metadata": {
    "collapsed": false,
    "ExecuteTime": {
     "end_time": "2024-01-12T15:26:57.209497700Z",
     "start_time": "2024-01-12T15:26:57.207389800Z"
    }
   },
   "id": "cdf24b90774e1627"
  }
 ],
 "metadata": {
  "kernelspec": {
   "display_name": "Python 3",
   "language": "python",
   "name": "python3"
  },
  "language_info": {
   "codemirror_mode": {
    "name": "ipython",
    "version": 2
   },
   "file_extension": ".py",
   "mimetype": "text/x-python",
   "name": "python",
   "nbconvert_exporter": "python",
   "pygments_lexer": "ipython2",
   "version": "2.7.6"
  }
 },
 "nbformat": 4,
 "nbformat_minor": 5
}
