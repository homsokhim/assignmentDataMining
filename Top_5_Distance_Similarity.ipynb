{
 "cells": [
  {
   "cell_type": "code",
   "execution_count": 1,
   "id": "665ecf6b3f08a334",
   "metadata": {
    "collapsed": false,
    "ExecuteTime": {
     "end_time": "2023-12-12T06:01:00.411360600Z",
     "start_time": "2023-12-12T06:01:00.325479100Z"
    }
   },
   "outputs": [
    {
     "data": {
      "text/plain": "9.746794344808963"
     },
     "execution_count": 1,
     "metadata": {},
     "output_type": "execute_result"
    }
   ],
   "source": [
    "#1 Write a function to calculate Euclidean distance between two objects Datasetx and Datasety\n",
    "import numpy as np\n",
    "datasetX = [0,3,4,5]\n",
    "datasetY = [7,6,3,-1]\n",
    "def Euclidean(datax, datay):\n",
    "    datax = np.array(datax)\n",
    "    datay = np.array(datay)\n",
    "    p = np.sum((datax - datay) ** 2)\n",
    "    d = np.sqrt(p)\n",
    "    return d\n",
    "Euclidean(datasetX, datasetY)"
   ]
  },
  {
   "cell_type": "code",
   "execution_count": 2,
   "id": "1efaddcf2f05dac5",
   "metadata": {
    "collapsed": false,
    "ExecuteTime": {
     "end_time": "2023-12-12T06:01:00.728896100Z",
     "start_time": "2023-12-12T06:01:00.411360600Z"
    }
   },
   "outputs": [
    {
     "data": {
      "text/plain": "9.746794344808963"
     },
     "execution_count": 2,
     "metadata": {},
     "output_type": "execute_result"
    }
   ],
   "source": [
    "# We use the calculate the Manhattan distance between two x and y by Euclidean function from the Scipy package.\n",
    "from scipy.spatial.distance import euclidean\n",
    "euclidean(datasetX,datasetY)"
   ]
  },
  {
   "cell_type": "code",
   "execution_count": 3,
   "id": "ec5eedce48e34825",
   "metadata": {
    "collapsed": false,
    "ExecuteTime": {
     "end_time": "2023-12-12T06:01:00.733577Z",
     "start_time": "2023-12-12T06:01:00.733069700Z"
    }
   },
   "outputs": [],
   "source": [
    "#We saw the sam result between function we use from library and customize function."
   ]
  },
  {
   "cell_type": "code",
   "execution_count": 4,
   "id": "14c85c73b82dbb97",
   "metadata": {
    "collapsed": false,
    "ExecuteTime": {
     "end_time": "2023-12-12T06:01:00.801252100Z",
     "start_time": "2023-12-12T06:01:00.733577Z"
    }
   },
   "outputs": [
    {
     "data": {
      "text/plain": "17"
     },
     "execution_count": 4,
     "metadata": {},
     "output_type": "execute_result"
    }
   ],
   "source": [
    "#2 Write a function to calculate Manhattan distance between two objects x and y.\n",
    "def manhattan(dataX, dataY):\n",
    "    return sum(abs(dataX-dataY) for dataX,dataY in zip(dataX,dataY))\n",
    "\n",
    "manhattan(datasetX,datasetY)"
   ]
  },
  {
   "cell_type": "code",
   "execution_count": 5,
   "id": "b5a34e4775111631",
   "metadata": {
    "collapsed": false,
    "ExecuteTime": {
     "end_time": "2023-12-12T06:01:00.801252100Z",
     "start_time": "2023-12-12T06:01:00.769633400Z"
    }
   },
   "outputs": [
    {
     "data": {
      "text/plain": "17"
     },
     "execution_count": 5,
     "metadata": {},
     "output_type": "execute_result"
    }
   ],
   "source": [
    "#We use the calculate the Manhattan distance between two x and y by cityblock function from the Scipy package.\n",
    "from scipy.spatial.distance import cityblock\n",
    "cityblock(datasetX,datasetY)"
   ]
  },
  {
   "cell_type": "markdown",
   "id": "4fc329ca88061ac4",
   "metadata": {
    "collapsed": false
   },
   "source": [
    "#We saw the sam result between function we use from library and customize function."
   ]
  },
  {
   "cell_type": "code",
   "execution_count": 6,
   "id": "619638b689a1587f",
   "metadata": {
    "collapsed": false,
    "ExecuteTime": {
     "end_time": "2023-12-12T06:01:00.801252100Z",
     "start_time": "2023-12-12T06:01:00.776925600Z"
    }
   },
   "outputs": [
    {
     "data": {
      "text/plain": "0.6372618749449941"
     },
     "execution_count": 6,
     "metadata": {},
     "output_type": "execute_result"
    }
   ],
   "source": [
    "#3 Write a function to calculate Cosine similarity between two objects x and y.\n",
    "from numpy.linalg import norm\n",
    "def Cosine(dataX, dataY):\n",
    "    #Ensure length of x and y are the same\n",
    "    if len(dataX) != len(dataY):\n",
    "        return \"The data is not the same lenght!!\"\n",
    "    \n",
    "    consine_similarity = 1.0 - np.dot(dataX,dataY)/(norm(dataX) * norm(dataY))\n",
    "    \n",
    "    return  consine_similarity\n",
    "Cosine(datasetX, datasetY)"
   ]
  },
  {
   "cell_type": "code",
   "execution_count": 7,
   "id": "c613e1d027b15f6d",
   "metadata": {
    "collapsed": false,
    "ExecuteTime": {
     "end_time": "2023-12-12T06:01:00.808497900Z",
     "start_time": "2023-12-12T06:01:00.783419400Z"
    }
   },
   "outputs": [
    {
     "data": {
      "text/plain": "0.6372618749449942"
     },
     "execution_count": 7,
     "metadata": {},
     "output_type": "execute_result"
    }
   ],
   "source": [
    "#We use the calculate the Manhattan distance between two x and y by cosine function from the Scipy package.\n",
    "from scipy.spatial.distance import cosine\n",
    "cosine(datasetX,datasetY)"
   ]
  },
  {
   "cell_type": "markdown",
   "id": "51b4e6738817a46a",
   "metadata": {
    "collapsed": false
   },
   "source": [
    "#We saw the sam result between function we use from library and customize function."
   ]
  },
  {
   "cell_type": "code",
   "execution_count": 8,
   "id": "534468b57409637d",
   "metadata": {
    "collapsed": false,
    "ExecuteTime": {
     "end_time": "2023-12-12T06:01:00.809008900Z",
     "start_time": "2023-12-12T06:01:00.788982800Z"
    }
   },
   "outputs": [
    {
     "data": {
      "text/plain": "1.0"
     },
     "execution_count": 8,
     "metadata": {},
     "output_type": "execute_result"
    }
   ],
   "source": [
    "#4 Write a function to calculate Jaccard similarity between two objects x and y\n",
    "def Jaccard(dataX, dataY):\n",
    "    jaccard_similarity = (np.double(np.bitwise_and((dataX != dataY), np.bitwise_or(dataX != 0, dataY != 0)).sum()) / np.double(np.bitwise_or(dataX != 0, dataY != 0).sum()))\n",
    "    return jaccard_similarity\n",
    "Jaccard(datasetX, datasetY)"
   ]
  },
  {
   "cell_type": "code",
   "execution_count": 9,
   "id": "4b8b829aff35964b",
   "metadata": {
    "collapsed": false,
    "ExecuteTime": {
     "end_time": "2023-12-12T06:01:00.815708Z",
     "start_time": "2023-12-12T06:01:00.795761900Z"
    }
   },
   "outputs": [
    {
     "data": {
      "text/plain": "1.0"
     },
     "execution_count": 9,
     "metadata": {},
     "output_type": "execute_result"
    }
   ],
   "source": [
    "from scipy.spatial.distance import jaccard\n",
    "jaccard(datasetX,datasetY)"
   ]
  },
  {
   "cell_type": "markdown",
   "id": "e67086fdbb867e6e",
   "metadata": {
    "collapsed": false
   },
   "source": [
    "#We saw the sam result between function we use from library and customize function."
   ]
  },
  {
   "cell_type": "code",
   "execution_count": 10,
   "id": "d5a3314e2992f9fa",
   "metadata": {
    "collapsed": false,
    "ExecuteTime": {
     "end_time": "2023-12-12T06:01:00.815708Z",
     "start_time": "2023-12-12T06:01:00.801252100Z"
    }
   },
   "outputs": [
    {
     "data": {
      "text/plain": "0.0"
     },
     "execution_count": 10,
     "metadata": {},
     "output_type": "execute_result"
    }
   ],
   "source": [
    "#5 Write a function Jaccard to calculate the similarity of two binary vectors\n",
    "binary_data_set_X = [1, 0, 0, 0, 0, 0, 0, 0, 0, 0]\n",
    "binary_data_set_Y = [0, 0, 0, 0, 0, 0, 1, 0, 0, 1]\n",
    "def Jaccard_binary(dataX, dataY):\n",
    "    intersection = np.logical_and(dataX,dataY)\n",
    "    unoin = np.logical_or(dataX,dataY)\n",
    "    similarity = intersection.sum() / float(unoin.sum())\n",
    "    return similarity\n",
    "Jaccard_binary(binary_data_set_X,binary_data_set_Y)\n"
   ]
  },
  {
   "cell_type": "code",
   "execution_count": 11,
   "id": "e00cb488-e7cd-4250-8b9f-b4cae45405ba",
   "metadata": {
    "ExecuteTime": {
     "end_time": "2023-12-12T06:01:00.815708Z",
     "start_time": "2023-12-12T06:01:00.809008900Z"
    }
   },
   "outputs": [
    {
     "data": {
      "text/plain": "[0, 1]"
     },
     "execution_count": 11,
     "metadata": {},
     "output_type": "execute_result"
    }
   ],
   "source": [
    "#5 Write a function SMC to calculate the similarity of two binary vectors\n",
    "def SMC(dataX, dataY):\n",
    "    common = list(set(dataX).intersection(dataY))\n",
    "    return common\n",
    "SMC(binary_data_set_X,binary_data_set_Y)"
   ]
  }
 ],
 "metadata": {
  "kernelspec": {
   "display_name": "Python 3 (ipykernel)",
   "language": "python",
   "name": "python3"
  },
  "language_info": {
   "codemirror_mode": {
    "name": "ipython",
    "version": 3
   },
   "file_extension": ".py",
   "mimetype": "text/x-python",
   "name": "python",
   "nbconvert_exporter": "python",
   "pygments_lexer": "ipython3",
   "version": "3.11.0"
  }
 },
 "nbformat": 4,
 "nbformat_minor": 5
}
