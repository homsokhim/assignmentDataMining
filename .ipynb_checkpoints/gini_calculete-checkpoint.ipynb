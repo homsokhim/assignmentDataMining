{
 "cells": [
  {
   "cell_type": "code",
<<<<<<< HEAD
<<<<<<< HEAD
   "execution_count": 11,
   "id": "initial_id",
   "metadata": {
    "ExecuteTime": {
     "end_time": "2023-11-30T10:13:37.504311800Z",
     "start_time": "2023-11-30T10:13:37.493193600Z"
    },
    "collapsed": true
=======
   "execution_count": null,
   "id": "initial_id",
   "metadata": {
    "collapsed": true,
    "is_executing": true
>>>>>>> cfc460ca5cbc5d4131dfc72616a5473e18cf3e69
=======
>>>>>>> f9622583679b9453aa1b461f66381ca42dcf0f8e
   },
   "outputs": [],
   "source": [
    "import pandas as pd"
   ]
  },
  {
   "cell_type": "code",
   "execution_count": 12,
<<<<<<< HEAD
<<<<<<< HEAD
   "id": "5139f9ea6be1d15",
   "metadata": {
    "ExecuteTime": {
     "end_time": "2023-11-30T10:13:37.520542Z",
     "start_time": "2023-11-30T10:13:37.500311300Z"
    }
   },
   "outputs": [
    {
     "data": {
      "text/html": [
       "<div>\n",
       "<style scoped>\n",
       "    .dataframe tbody tr th:only-of-type {\n",
       "        vertical-align: middle;\n",
       "    }\n",
       "\n",
       "    .dataframe tbody tr th {\n",
       "        vertical-align: top;\n",
       "    }\n",
       "\n",
       "    .dataframe thead th {\n",
       "        text-align: right;\n",
       "    }\n",
       "</style>\n",
       "<table border=\"1\" class=\"dataframe\">\n",
       "  <thead>\n",
       "    <tr style=\"text-align: right;\">\n",
       "      <th></th>\n",
       "      <th>Customer_Id</th>\n",
       "      <th>Gender</th>\n",
       "      <th>Car_type</th>\n",
       "      <th>Shirt_Size</th>\n",
       "      <th>Class</th>\n",
       "    </tr>\n",
       "  </thead>\n",
       "  <tbody>\n",
       "    <tr>\n",
       "      <th>0</th>\n",
       "      <td>1</td>\n",
       "      <td>M</td>\n",
       "      <td>Family</td>\n",
       "      <td>Small</td>\n",
       "      <td>C0</td>\n",
       "    </tr>\n",
       "    <tr>\n",
       "      <th>1</th>\n",
       "      <td>2</td>\n",
       "      <td>M</td>\n",
       "      <td>Sports</td>\n",
       "      <td>Medium</td>\n",
       "      <td>C0</td>\n",
       "    </tr>\n",
       "    <tr>\n",
       "      <th>2</th>\n",
       "      <td>3</td>\n",
       "      <td>M</td>\n",
       "      <td>Sports</td>\n",
       "      <td>Medium</td>\n",
       "      <td>C0</td>\n",
       "    </tr>\n",
       "    <tr>\n",
       "      <th>3</th>\n",
       "      <td>4</td>\n",
       "      <td>M</td>\n",
       "      <td>Sports</td>\n",
       "      <td>Large</td>\n",
       "      <td>C0</td>\n",
       "    </tr>\n",
       "    <tr>\n",
       "      <th>4</th>\n",
       "      <td>5</td>\n",
       "      <td>M</td>\n",
       "      <td>Sports</td>\n",
       "      <td>Extra Large</td>\n",
       "      <td>C0</td>\n",
       "    </tr>\n",
       "  </tbody>\n",
       "</table>\n",
       "</div>"
      ],
      "text/plain": [
       "   Customer_Id Gender Car_type   Shirt_Size Class\n",
       "0            1      M   Family        Small    C0\n",
       "1            2      M   Sports       Medium    C0\n",
       "2            3      M   Sports       Medium    C0\n",
       "3            4      M   Sports        Large    C0\n",
       "4            5      M   Sports  Extra Large    C0"
      ]
=======
   "outputs": [
    {
     "data": {
      "text/plain": "   Customer_Id Gender Car_type   Shirt_Size Class\n0            1      M   Family        Small    C0\n1            2      M   Sports       Medium    C0\n2            3      M   Sports       Medium    C0\n3            4      M   Sports        Large    C0\n4            5      M   Sports  Extra Large    C0",
      "text/html": "<div>\n<style scoped>\n    .dataframe tbody tr th:only-of-type {\n        vertical-align: middle;\n    }\n\n    .dataframe tbody tr th {\n        vertical-align: top;\n    }\n\n    .dataframe thead th {\n        text-align: right;\n    }\n</style>\n<table border=\"1\" class=\"dataframe\">\n  <thead>\n    <tr style=\"text-align: right;\">\n      <th></th>\n      <th>Customer_Id</th>\n      <th>Gender</th>\n      <th>Car_type</th>\n      <th>Shirt_Size</th>\n      <th>Class</th>\n    </tr>\n  </thead>\n  <tbody>\n    <tr>\n      <th>0</th>\n      <td>1</td>\n      <td>M</td>\n      <td>Family</td>\n      <td>Small</td>\n      <td>C0</td>\n    </tr>\n    <tr>\n      <th>1</th>\n      <td>2</td>\n      <td>M</td>\n      <td>Sports</td>\n      <td>Medium</td>\n      <td>C0</td>\n    </tr>\n    <tr>\n      <th>2</th>\n      <td>3</td>\n      <td>M</td>\n      <td>Sports</td>\n      <td>Medium</td>\n      <td>C0</td>\n    </tr>\n    <tr>\n      <th>3</th>\n      <td>4</td>\n      <td>M</td>\n      <td>Sports</td>\n      <td>Large</td>\n      <td>C0</td>\n    </tr>\n    <tr>\n      <th>4</th>\n      <td>5</td>\n      <td>M</td>\n      <td>Sports</td>\n      <td>Extra Large</td>\n      <td>C0</td>\n    </tr>\n  </tbody>\n</table>\n</div>"
>>>>>>> cfc460ca5cbc5d4131dfc72616a5473e18cf3e69
=======
>>>>>>> f9622583679b9453aa1b461f66381ca42dcf0f8e
     },
     "execution_count": 12,
     "metadata": {},
     "output_type": "execute_result"
    }
   ],
   "source": [
    "df = pd.read_csv(\"HomeWorkDataSet.csv\")\n",
    "# For starters, let’s read in and check out the first five rows of the data:\n",
    "df.head()"
<<<<<<< HEAD
<<<<<<< HEAD
   ]
=======
   ],
   "metadata": {
    "collapsed": false,
    "ExecuteTime": {
     "end_time": "2023-11-30T10:13:37.520542Z",
     "start_time": "2023-11-30T10:13:37.500311300Z"
    }
   },
   "id": "5139f9ea6be1d15"
>>>>>>> cfc460ca5cbc5d4131dfc72616a5473e18cf3e69
  },
  {
   "cell_type": "code",
   "execution_count": 13,
<<<<<<< HEAD
   "id": "5462c21fd486e3c3",
   "metadata": {
    "ExecuteTime": {
     "end_time": "2023-11-30T10:13:37.520542Z",
     "start_time": "2023-11-30T10:13:37.508239700Z"
    }
   },
   "outputs": [
    {
     "data": {
      "text/plain": [
       "array(['M', 'F'], dtype=object)"
      ]
=======
   "outputs": [
    {
     "data": {
      "text/plain": "array(['M', 'F'], dtype=object)"
>>>>>>> cfc460ca5cbc5d4131dfc72616a5473e18cf3e69
=======
>>>>>>> f9622583679b9453aa1b461f66381ca42dcf0f8e
     },
     "execution_count": 13,
     "metadata": {},
     "output_type": "execute_result"
    }
   ],
   "source": [
    "# With unique() we can check what kind of Gender we’re dealing with:\n",
    "df[\"Gender\"].unique()"
<<<<<<< HEAD
<<<<<<< HEAD
   ]
=======
   ],
   "metadata": {
    "collapsed": false,
    "ExecuteTime": {
     "end_time": "2023-11-30T10:13:37.520542Z",
     "start_time": "2023-11-30T10:13:37.508239700Z"
    }
   },
   "id": "5462c21fd486e3c3"
>>>>>>> cfc460ca5cbc5d4131dfc72616a5473e18cf3e69
=======
>>>>>>> f9622583679b9453aa1b461f66381ca42dcf0f8e
  },
  {
   "cell_type": "code",
   "execution_count": 14,
<<<<<<< HEAD
<<<<<<< HEAD
   "id": "b3031cffe355b86c",
   "metadata": {
=======
   "outputs": [],
   "source": [
    "# We won’t need the customer ids, so let’s drop that column:\n",
    "df = df.drop(\"Customer_Id\", axis=1)"
   ],
   "metadata": {
    "collapsed": false,
>>>>>>> cfc460ca5cbc5d4131dfc72616a5473e18cf3e69
=======
>>>>>>> f9622583679b9453aa1b461f66381ca42dcf0f8e
    "ExecuteTime": {
     "end_time": "2023-11-30T10:13:37.533206100Z",
     "start_time": "2023-11-30T10:13:37.516208800Z"
    }
   },
<<<<<<< HEAD
<<<<<<< HEAD
   "outputs": [],
   "source": [
    "# We won’t need the customer ids, so let’s drop that column:\n",
    "df = df.drop(\"Customer_Id\", axis=1)"
   ]
=======
   "id": "b3031cffe355b86c"
>>>>>>> cfc460ca5cbc5d4131dfc72616a5473e18cf3e69
=======
>>>>>>> f9622583679b9453aa1b461f66381ca42dcf0f8e
  },
  {
   "cell_type": "code",
   "execution_count": 16,
<<<<<<< HEAD
<<<<<<< HEAD
   "id": "6336070f4ac75833",
   "metadata": {
    "ExecuteTime": {
     "end_time": "2023-11-30T10:13:58.971919600Z",
     "start_time": "2023-11-30T10:13:58.944418300Z"
    }
   },
   "outputs": [
    {
     "data": {
      "text/html": [
       "<div>\n",
       "<style scoped>\n",
       "    .dataframe tbody tr th:only-of-type {\n",
       "        vertical-align: middle;\n",
       "    }\n",
       "\n",
       "    .dataframe tbody tr th {\n",
       "        vertical-align: top;\n",
       "    }\n",
       "\n",
       "    .dataframe thead th {\n",
       "        text-align: right;\n",
       "    }\n",
       "</style>\n",
       "<table border=\"1\" class=\"dataframe\">\n",
       "  <thead>\n",
       "    <tr style=\"text-align: right;\">\n",
       "      <th></th>\n",
       "      <th>Car_type_Family</th>\n",
       "      <th>Car_type_Luxury</th>\n",
       "      <th>Car_type_Sports</th>\n",
       "      <th>Shirt_Size_Extra Large</th>\n",
       "      <th>Shirt_Size_Large</th>\n",
       "      <th>Shirt_Size_Medium</th>\n",
       "      <th>Shirt_Size_Small</th>\n",
       "      <th>Class_C0</th>\n",
       "      <th>Class_C1</th>\n",
       "    </tr>\n",
       "  </thead>\n",
       "  <tbody>\n",
       "    <tr>\n",
       "      <th>0</th>\n",
       "      <td>True</td>\n",
       "      <td>False</td>\n",
       "      <td>False</td>\n",
       "      <td>False</td>\n",
       "      <td>False</td>\n",
       "      <td>False</td>\n",
       "      <td>True</td>\n",
       "      <td>True</td>\n",
       "      <td>False</td>\n",
       "    </tr>\n",
       "    <tr>\n",
       "      <th>1</th>\n",
       "      <td>False</td>\n",
       "      <td>False</td>\n",
       "      <td>True</td>\n",
       "      <td>False</td>\n",
       "      <td>False</td>\n",
       "      <td>True</td>\n",
       "      <td>False</td>\n",
       "      <td>True</td>\n",
       "      <td>False</td>\n",
       "    </tr>\n",
       "    <tr>\n",
       "      <th>2</th>\n",
       "      <td>False</td>\n",
       "      <td>False</td>\n",
       "      <td>True</td>\n",
       "      <td>False</td>\n",
       "      <td>False</td>\n",
       "      <td>True</td>\n",
       "      <td>False</td>\n",
       "      <td>True</td>\n",
       "      <td>False</td>\n",
       "    </tr>\n",
       "    <tr>\n",
       "      <th>3</th>\n",
       "      <td>False</td>\n",
       "      <td>False</td>\n",
       "      <td>True</td>\n",
       "      <td>False</td>\n",
       "      <td>True</td>\n",
       "      <td>False</td>\n",
       "      <td>False</td>\n",
       "      <td>True</td>\n",
       "      <td>False</td>\n",
       "    </tr>\n",
       "    <tr>\n",
       "      <th>4</th>\n",
       "      <td>False</td>\n",
       "      <td>False</td>\n",
       "      <td>True</td>\n",
       "      <td>True</td>\n",
       "      <td>False</td>\n",
       "      <td>False</td>\n",
       "      <td>False</td>\n",
       "      <td>True</td>\n",
       "      <td>False</td>\n",
       "    </tr>\n",
       "    <tr>\n",
       "      <th>5</th>\n",
       "      <td>False</td>\n",
       "      <td>False</td>\n",
       "      <td>True</td>\n",
       "      <td>True</td>\n",
       "      <td>False</td>\n",
       "      <td>False</td>\n",
       "      <td>False</td>\n",
       "      <td>True</td>\n",
       "      <td>False</td>\n",
       "    </tr>\n",
       "    <tr>\n",
       "      <th>6</th>\n",
       "      <td>False</td>\n",
       "      <td>False</td>\n",
       "      <td>True</td>\n",
       "      <td>False</td>\n",
       "      <td>False</td>\n",
       "      <td>False</td>\n",
       "      <td>True</td>\n",
       "      <td>True</td>\n",
       "      <td>False</td>\n",
       "    </tr>\n",
       "    <tr>\n",
       "      <th>7</th>\n",
       "      <td>False</td>\n",
       "      <td>False</td>\n",
       "      <td>True</td>\n",
       "      <td>False</td>\n",
       "      <td>False</td>\n",
       "      <td>False</td>\n",
       "      <td>True</td>\n",
       "      <td>True</td>\n",
       "      <td>False</td>\n",
       "    </tr>\n",
       "    <tr>\n",
       "      <th>8</th>\n",
       "      <td>False</td>\n",
       "      <td>False</td>\n",
       "      <td>True</td>\n",
       "      <td>False</td>\n",
       "      <td>False</td>\n",
       "      <td>True</td>\n",
       "      <td>False</td>\n",
       "      <td>True</td>\n",
       "      <td>False</td>\n",
       "    </tr>\n",
       "    <tr>\n",
       "      <th>9</th>\n",
       "      <td>False</td>\n",
       "      <td>True</td>\n",
       "      <td>False</td>\n",
       "      <td>False</td>\n",
       "      <td>True</td>\n",
       "      <td>False</td>\n",
       "      <td>False</td>\n",
       "      <td>False</td>\n",
       "      <td>True</td>\n",
       "    </tr>\n",
       "    <tr>\n",
       "      <th>10</th>\n",
       "      <td>True</td>\n",
       "      <td>False</td>\n",
       "      <td>False</td>\n",
       "      <td>False</td>\n",
       "      <td>True</td>\n",
       "      <td>False</td>\n",
       "      <td>False</td>\n",
       "      <td>False</td>\n",
       "      <td>True</td>\n",
       "    </tr>\n",
       "    <tr>\n",
       "      <th>11</th>\n",
       "      <td>True</td>\n",
       "      <td>False</td>\n",
       "      <td>False</td>\n",
       "      <td>True</td>\n",
       "      <td>False</td>\n",
       "      <td>False</td>\n",
       "      <td>False</td>\n",
       "      <td>False</td>\n",
       "      <td>True</td>\n",
       "    </tr>\n",
       "    <tr>\n",
       "      <th>12</th>\n",
       "      <td>True</td>\n",
       "      <td>False</td>\n",
       "      <td>False</td>\n",
       "      <td>False</td>\n",
       "      <td>False</td>\n",
       "      <td>True</td>\n",
       "      <td>False</td>\n",
       "      <td>False</td>\n",
       "      <td>True</td>\n",
       "    </tr>\n",
       "    <tr>\n",
       "      <th>13</th>\n",
       "      <td>False</td>\n",
       "      <td>True</td>\n",
       "      <td>False</td>\n",
       "      <td>True</td>\n",
       "      <td>False</td>\n",
       "      <td>False</td>\n",
       "      <td>False</td>\n",
       "      <td>False</td>\n",
       "      <td>True</td>\n",
       "    </tr>\n",
       "    <tr>\n",
       "      <th>14</th>\n",
       "      <td>False</td>\n",
       "      <td>True</td>\n",
       "      <td>False</td>\n",
       "      <td>False</td>\n",
       "      <td>False</td>\n",
       "      <td>False</td>\n",
       "      <td>True</td>\n",
       "      <td>False</td>\n",
       "      <td>True</td>\n",
       "    </tr>\n",
       "    <tr>\n",
       "      <th>15</th>\n",
       "      <td>False</td>\n",
       "      <td>True</td>\n",
       "      <td>False</td>\n",
       "      <td>False</td>\n",
       "      <td>False</td>\n",
       "      <td>False</td>\n",
       "      <td>True</td>\n",
       "      <td>False</td>\n",
       "      <td>True</td>\n",
       "    </tr>\n",
       "    <tr>\n",
       "      <th>16</th>\n",
       "      <td>False</td>\n",
       "      <td>True</td>\n",
       "      <td>False</td>\n",
       "      <td>False</td>\n",
       "      <td>False</td>\n",
       "      <td>True</td>\n",
       "      <td>False</td>\n",
       "      <td>False</td>\n",
       "      <td>True</td>\n",
       "    </tr>\n",
       "    <tr>\n",
       "      <th>17</th>\n",
       "      <td>False</td>\n",
       "      <td>True</td>\n",
       "      <td>False</td>\n",
       "      <td>False</td>\n",
       "      <td>False</td>\n",
       "      <td>True</td>\n",
       "      <td>False</td>\n",
       "      <td>False</td>\n",
       "      <td>True</td>\n",
       "    </tr>\n",
       "    <tr>\n",
       "      <th>18</th>\n",
       "      <td>False</td>\n",
       "      <td>True</td>\n",
       "      <td>False</td>\n",
       "      <td>False</td>\n",
       "      <td>False</td>\n",
       "      <td>True</td>\n",
       "      <td>False</td>\n",
       "      <td>False</td>\n",
       "      <td>True</td>\n",
       "    </tr>\n",
       "    <tr>\n",
       "      <th>19</th>\n",
       "      <td>False</td>\n",
       "      <td>True</td>\n",
       "      <td>False</td>\n",
       "      <td>False</td>\n",
       "      <td>True</td>\n",
       "      <td>False</td>\n",
       "      <td>False</td>\n",
       "      <td>False</td>\n",
       "      <td>True</td>\n",
       "    </tr>\n",
       "  </tbody>\n",
       "</table>\n",
       "</div>"
      ],
      "text/plain": [
       "    Car_type_Family  Car_type_Luxury  Car_type_Sports  Shirt_Size_Extra Large  \\\n",
       "0              True            False            False                   False   \n",
       "1             False            False             True                   False   \n",
       "2             False            False             True                   False   \n",
       "3             False            False             True                   False   \n",
       "4             False            False             True                    True   \n",
       "5             False            False             True                    True   \n",
       "6             False            False             True                   False   \n",
       "7             False            False             True                   False   \n",
       "8             False            False             True                   False   \n",
       "9             False             True            False                   False   \n",
       "10             True            False            False                   False   \n",
       "11             True            False            False                    True   \n",
       "12             True            False            False                   False   \n",
       "13            False             True            False                    True   \n",
       "14            False             True            False                   False   \n",
       "15            False             True            False                   False   \n",
       "16            False             True            False                   False   \n",
       "17            False             True            False                   False   \n",
       "18            False             True            False                   False   \n",
       "19            False             True            False                   False   \n",
       "\n",
       "    Shirt_Size_Large  Shirt_Size_Medium  Shirt_Size_Small  Class_C0  Class_C1  \n",
       "0              False              False              True      True     False  \n",
       "1              False               True             False      True     False  \n",
       "2              False               True             False      True     False  \n",
       "3               True              False             False      True     False  \n",
       "4              False              False             False      True     False  \n",
       "5              False              False             False      True     False  \n",
       "6              False              False              True      True     False  \n",
       "7              False              False              True      True     False  \n",
       "8              False               True             False      True     False  \n",
       "9               True              False             False     False      True  \n",
       "10              True              False             False     False      True  \n",
       "11             False              False             False     False      True  \n",
       "12             False               True             False     False      True  \n",
       "13             False              False             False     False      True  \n",
       "14             False              False              True     False      True  \n",
       "15             False              False              True     False      True  \n",
       "16             False               True             False     False      True  \n",
       "17             False               True             False     False      True  \n",
       "18             False               True             False     False      True  \n",
       "19              True              False             False     False      True  "
      ]
=======
   "outputs": [
    {
     "data": {
      "text/plain": "    Car_type_Family  Car_type_Luxury  Car_type_Sports  Shirt_Size_Extra Large  \\\n0              True            False            False                   False   \n1             False            False             True                   False   \n2             False            False             True                   False   \n3             False            False             True                   False   \n4             False            False             True                    True   \n5             False            False             True                    True   \n6             False            False             True                   False   \n7             False            False             True                   False   \n8             False            False             True                   False   \n9             False             True            False                   False   \n10             True            False            False                   False   \n11             True            False            False                    True   \n12             True            False            False                   False   \n13            False             True            False                    True   \n14            False             True            False                   False   \n15            False             True            False                   False   \n16            False             True            False                   False   \n17            False             True            False                   False   \n18            False             True            False                   False   \n19            False             True            False                   False   \n\n    Shirt_Size_Large  Shirt_Size_Medium  Shirt_Size_Small  Class_C0  Class_C1  \n0              False              False              True      True     False  \n1              False               True             False      True     False  \n2              False               True             False      True     False  \n3               True              False             False      True     False  \n4              False              False             False      True     False  \n5              False              False             False      True     False  \n6              False              False              True      True     False  \n7              False              False              True      True     False  \n8              False               True             False      True     False  \n9               True              False             False     False      True  \n10              True              False             False     False      True  \n11             False              False             False     False      True  \n12             False               True             False     False      True  \n13             False              False             False     False      True  \n14             False              False              True     False      True  \n15             False              False              True     False      True  \n16             False               True             False     False      True  \n17             False               True             False     False      True  \n18             False               True             False     False      True  \n19              True              False             False     False      True  ",
      "text/html": "<div>\n<style scoped>\n    .dataframe tbody tr th:only-of-type {\n        vertical-align: middle;\n    }\n\n    .dataframe tbody tr th {\n        vertical-align: top;\n    }\n\n    .dataframe thead th {\n        text-align: right;\n    }\n</style>\n<table border=\"1\" class=\"dataframe\">\n  <thead>\n    <tr style=\"text-align: right;\">\n      <th></th>\n      <th>Car_type_Family</th>\n      <th>Car_type_Luxury</th>\n      <th>Car_type_Sports</th>\n      <th>Shirt_Size_Extra Large</th>\n      <th>Shirt_Size_Large</th>\n      <th>Shirt_Size_Medium</th>\n      <th>Shirt_Size_Small</th>\n      <th>Class_C0</th>\n      <th>Class_C1</th>\n    </tr>\n  </thead>\n  <tbody>\n    <tr>\n      <th>0</th>\n      <td>True</td>\n      <td>False</td>\n      <td>False</td>\n      <td>False</td>\n      <td>False</td>\n      <td>False</td>\n      <td>True</td>\n      <td>True</td>\n      <td>False</td>\n    </tr>\n    <tr>\n      <th>1</th>\n      <td>False</td>\n      <td>False</td>\n      <td>True</td>\n      <td>False</td>\n      <td>False</td>\n      <td>True</td>\n      <td>False</td>\n      <td>True</td>\n      <td>False</td>\n    </tr>\n    <tr>\n      <th>2</th>\n      <td>False</td>\n      <td>False</td>\n      <td>True</td>\n      <td>False</td>\n      <td>False</td>\n      <td>True</td>\n      <td>False</td>\n      <td>True</td>\n      <td>False</td>\n    </tr>\n    <tr>\n      <th>3</th>\n      <td>False</td>\n      <td>False</td>\n      <td>True</td>\n      <td>False</td>\n      <td>True</td>\n      <td>False</td>\n      <td>False</td>\n      <td>True</td>\n      <td>False</td>\n    </tr>\n    <tr>\n      <th>4</th>\n      <td>False</td>\n      <td>False</td>\n      <td>True</td>\n      <td>True</td>\n      <td>False</td>\n      <td>False</td>\n      <td>False</td>\n      <td>True</td>\n      <td>False</td>\n    </tr>\n    <tr>\n      <th>5</th>\n      <td>False</td>\n      <td>False</td>\n      <td>True</td>\n      <td>True</td>\n      <td>False</td>\n      <td>False</td>\n      <td>False</td>\n      <td>True</td>\n      <td>False</td>\n    </tr>\n    <tr>\n      <th>6</th>\n      <td>False</td>\n      <td>False</td>\n      <td>True</td>\n      <td>False</td>\n      <td>False</td>\n      <td>False</td>\n      <td>True</td>\n      <td>True</td>\n      <td>False</td>\n    </tr>\n    <tr>\n      <th>7</th>\n      <td>False</td>\n      <td>False</td>\n      <td>True</td>\n      <td>False</td>\n      <td>False</td>\n      <td>False</td>\n      <td>True</td>\n      <td>True</td>\n      <td>False</td>\n    </tr>\n    <tr>\n      <th>8</th>\n      <td>False</td>\n      <td>False</td>\n      <td>True</td>\n      <td>False</td>\n      <td>False</td>\n      <td>True</td>\n      <td>False</td>\n      <td>True</td>\n      <td>False</td>\n    </tr>\n    <tr>\n      <th>9</th>\n      <td>False</td>\n      <td>True</td>\n      <td>False</td>\n      <td>False</td>\n      <td>True</td>\n      <td>False</td>\n      <td>False</td>\n      <td>False</td>\n      <td>True</td>\n    </tr>\n    <tr>\n      <th>10</th>\n      <td>True</td>\n      <td>False</td>\n      <td>False</td>\n      <td>False</td>\n      <td>True</td>\n      <td>False</td>\n      <td>False</td>\n      <td>False</td>\n      <td>True</td>\n    </tr>\n    <tr>\n      <th>11</th>\n      <td>True</td>\n      <td>False</td>\n      <td>False</td>\n      <td>True</td>\n      <td>False</td>\n      <td>False</td>\n      <td>False</td>\n      <td>False</td>\n      <td>True</td>\n    </tr>\n    <tr>\n      <th>12</th>\n      <td>True</td>\n      <td>False</td>\n      <td>False</td>\n      <td>False</td>\n      <td>False</td>\n      <td>True</td>\n      <td>False</td>\n      <td>False</td>\n      <td>True</td>\n    </tr>\n    <tr>\n      <th>13</th>\n      <td>False</td>\n      <td>True</td>\n      <td>False</td>\n      <td>True</td>\n      <td>False</td>\n      <td>False</td>\n      <td>False</td>\n      <td>False</td>\n      <td>True</td>\n    </tr>\n    <tr>\n      <th>14</th>\n      <td>False</td>\n      <td>True</td>\n      <td>False</td>\n      <td>False</td>\n      <td>False</td>\n      <td>False</td>\n      <td>True</td>\n      <td>False</td>\n      <td>True</td>\n    </tr>\n    <tr>\n      <th>15</th>\n      <td>False</td>\n      <td>True</td>\n      <td>False</td>\n      <td>False</td>\n      <td>False</td>\n      <td>False</td>\n      <td>True</td>\n      <td>False</td>\n      <td>True</td>\n    </tr>\n    <tr>\n      <th>16</th>\n      <td>False</td>\n      <td>True</td>\n      <td>False</td>\n      <td>False</td>\n      <td>False</td>\n      <td>True</td>\n      <td>False</td>\n      <td>False</td>\n      <td>True</td>\n    </tr>\n    <tr>\n      <th>17</th>\n      <td>False</td>\n      <td>True</td>\n      <td>False</td>\n      <td>False</td>\n      <td>False</td>\n      <td>True</td>\n      <td>False</td>\n      <td>False</td>\n      <td>True</td>\n    </tr>\n    <tr>\n      <th>18</th>\n      <td>False</td>\n      <td>True</td>\n      <td>False</td>\n      <td>False</td>\n      <td>False</td>\n      <td>True</td>\n      <td>False</td>\n      <td>False</td>\n      <td>True</td>\n    </tr>\n    <tr>\n      <th>19</th>\n      <td>False</td>\n      <td>True</td>\n      <td>False</td>\n      <td>False</td>\n      <td>True</td>\n      <td>False</td>\n      <td>False</td>\n      <td>False</td>\n      <td>True</td>\n    </tr>\n  </tbody>\n</table>\n</div>"
>>>>>>> cfc460ca5cbc5d4131dfc72616a5473e18cf3e69
=======

>>>>>>> f9622583679b9453aa1b461f66381ca42dcf0f8e
     },
     "execution_count": 16,
     "metadata": {},
     "output_type": "execute_result"
    }
   ],
   "source": [
    "#Because the decision trees in scikit-learn can’t work with string values, we need to convert strings to numbers with get_dummies():\n",
    "pd.get_dummies(df.drop(\"Gender\", axis=1))"
<<<<<<< HEAD
<<<<<<< HEAD
   ]
=======
   ],
   "metadata": {
    "collapsed": false,
    "ExecuteTime": {
     "end_time": "2023-11-30T10:13:58.971919600Z",
     "start_time": "2023-11-30T10:13:58.944418300Z"
    }
   },
   "id": "6336070f4ac75833"
>>>>>>> cfc460ca5cbc5d4131dfc72616a5473e18cf3e69
=======
>>>>>>> f9622583679b9453aa1b461f66381ca42dcf0f8e
  },
  {
   "cell_type": "code",
   "execution_count": null,
<<<<<<< HEAD
<<<<<<< HEAD
   "id": "f6af7c8d9dc978f1",
   "metadata": {},
   "outputs": [],
   "source": []
=======
   "outputs": [],
   "source": [],
   "metadata": {
    "collapsed": false
   },
   "id": "f6af7c8d9dc978f1"
>>>>>>> cfc460ca5cbc5d4131dfc72616a5473e18cf3e69
=======
>>>>>>> f9622583679b9453aa1b461f66381ca42dcf0f8e
  }
 ],
 "metadata": {
  "kernelspec": {
<<<<<<< HEAD
<<<<<<< HEAD
   "display_name": "Python 3 (ipykernel)",
=======
   "display_name": "Python 3",
>>>>>>> cfc460ca5cbc5d4131dfc72616a5473e18cf3e69
=======
>>>>>>> f9622583679b9453aa1b461f66381ca42dcf0f8e
   "language": "python",
   "name": "python3"
  },
  "language_info": {
   "codemirror_mode": {
    "name": "ipython",
<<<<<<< HEAD
<<<<<<< HEAD
    "version": 3
=======
    "version": 2
>>>>>>> cfc460ca5cbc5d4131dfc72616a5473e18cf3e69
=======
>>>>>>> f9622583679b9453aa1b461f66381ca42dcf0f8e
   },
   "file_extension": ".py",
   "mimetype": "text/x-python",
   "name": "python",
   "nbconvert_exporter": "python",
<<<<<<< HEAD
<<<<<<< HEAD
   "pygments_lexer": "ipython3",
   "version": "3.11.5"
=======
   "pygments_lexer": "ipython2",
   "version": "2.7.6"
>>>>>>> cfc460ca5cbc5d4131dfc72616a5473e18cf3e69
=======
>>>>>>> f9622583679b9453aa1b461f66381ca42dcf0f8e
  }
 },
 "nbformat": 4,
 "nbformat_minor": 5
}
