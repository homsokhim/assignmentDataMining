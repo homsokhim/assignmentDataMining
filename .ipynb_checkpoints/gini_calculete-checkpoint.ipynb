{
 "cells": [
  {
   "cell_type": "code",
   },
   "outputs": [],
   "source": [
    "import pandas as pd"
   ]
  },
  {
   "cell_type": "code",
   "execution_count": 12,
     },
     "execution_count": 12,
     "metadata": {},
     "output_type": "execute_result"
    }
   ],
   "source": [
    "df = pd.read_csv(\"HomeWorkDataSet.csv\")\n",
    "# For starters, let’s read in and check out the first five rows of the data:\n",
    "df.head()"
     },
     "execution_count": 13,
     "metadata": {},
     "output_type": "execute_result"
    }
   ],
   "source": [
    "# With unique() we can check what kind of Gender we’re dealing with:\n",
    "df[\"Gender\"].unique()"
  },
  {
   "cell_type": "code",
   "execution_count": 14,
    "ExecuteTime": {
     "end_time": "2023-11-30T10:13:37.533206100Z",
     "start_time": "2023-11-30T10:13:37.516208800Z"
    }
   },
  },
  {
   "cell_type": "code",
   "execution_count": 16,

     },
     "execution_count": 16,
     "metadata": {},
     "output_type": "execute_result"
    }
   ],
   "source": [
    "#Because the decision trees in scikit-learn can’t work with string values, we need to convert strings to numbers with get_dummies():\n",
    "pd.get_dummies(df.drop(\"Gender\", axis=1))"
  },
  {
   "cell_type": "code",
   "execution_count": null,
  }
 ],
 "metadata": {
  "kernelspec": {
   "language": "python",
   "name": "python3"
  },
  "language_info": {
   "codemirror_mode": {
    "name": "ipython",
   },
   "file_extension": ".py",
   "mimetype": "text/x-python",
   "name": "python",
   "nbconvert_exporter": "python",
  }
 },
 "nbformat": 4,
 "nbformat_minor": 5
}
