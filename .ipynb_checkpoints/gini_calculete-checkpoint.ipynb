{
 "cells": [
  {
   "cell_type": "code",
   },
   "outputs": [],
   "source": [
    "import pandas as pd"
   ]
  },
  {
   "cell_type": "code",
   "execution_count": 12,
     },
     "execution_count": 12,
     "metadata": {},
     "output_type": "execute_result"
    }
   ],
   "source": [
    "df = pd.read_csv(\"HomeWorkDataSet.csv\")\n",
    "# For starters, let’s read in and check out the first five rows of the data:\n",
    "df.head()"
  },
  {
   "cell_type": "code",
   "execution_count": 13,
     },
     "execution_count": 13,
     "metadata": {},
     "output_type": "execute_result"
    }
   ],
   "source": [
    "# With unique() we can check what kind of Gender we’re dealing with:\n",
    "df[\"Gender\"].unique()"
  },
  {
   "cell_type": "code",
   "execution_count": 14,
    "ExecuteTime": {
     "end_time": "2023-11-30T10:13:37.533206100Z",
     "start_time": "2023-11-30T10:13:37.516208800Z"
    }
   },
  },
  {
   "cell_type": "code",
   "execution_count": 16,
  },
  {
   "cell_type": "code",
   "execution_count": null,
  }
 ],
 "metadata": {
  "kernelspec": {
   "language": "python",
   "name": "python3"
  },
  "language_info": {
   "codemirror_mode": {
    "name": "ipython",
   },
   "file_extension": ".py",
   "mimetype": "text/x-python",
   "name": "python",
   "nbconvert_exporter": "python",
  }
 },
 "nbformat": 4,
 "nbformat_minor": 5
}
