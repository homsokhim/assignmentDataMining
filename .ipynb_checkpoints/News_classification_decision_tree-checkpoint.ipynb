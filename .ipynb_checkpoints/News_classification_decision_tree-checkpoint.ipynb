{
 "cells": [
  {
   "cell_type": "code",
   "execution_count": 1,
   "id": "ab0718c8",
   "metadata": {
    "ExecuteTime": {
     "end_time": "2024-01-10T02:40:33.947870600Z",
     "start_time": "2024-01-10T02:40:32.161713400Z"
    }
   },
   "outputs": [],
   "source": [
    "import pandas as pd\n",
    "from sklearn.model_selection import train_test_split\n",
    "from sklearn.feature_extraction.text import CountVectorizer \n",
    "from sklearn.tree import DecisionTreeClassifier\n",
    "from sklearn.metrics import accuracy_score, precision_score, recall_score, f1_score"
   ]
  },
  {
   "cell_type": "code",
   "execution_count": 2,
   "id": "4f4b5269",
   "metadata": {
    "ExecuteTime": {
     "end_time": "2024-01-10T02:40:35.337702Z",
     "start_time": "2024-01-10T02:40:33.952509400Z"
    }
   },
   "outputs": [
    {
     "data": {
      "text/plain": [
       "array(['b', 't', 'e', 'm'], dtype=object)"
      ]
     },
     "execution_count": 2,
     "metadata": {},
     "output_type": "execute_result"
    }
   ],
   "source": [
    "filename = 'uci-news-aggregator.csv'\n",
    "df = pd.read_csv(filename, sep= \",\")\n",
    "df.CATEGORY.unique()"
   ]
  },
  {
   "cell_type": "code",
   "execution_count": 3,
   "id": "db3d1bf6",
   "metadata": {
    "ExecuteTime": {
     "end_time": "2024-01-10T02:40:36.578810400Z",
     "start_time": "2024-01-10T02:40:35.402778500Z"
    }
   },
   "outputs": [
    {
     "name": "stdout",
     "output_type": "stream",
     "text": [
      "0         fed official says weak data caused by weather ...\n",
      "1         feds charles plosser sees high bar for change ...\n",
      "2         us open stocks fall after fed official hints a...\n",
      "3         fed risks falling behind the curve charles plo...\n",
      "4          feds plosser nasty weather has curbed job growth\n",
      "                                ...                        \n",
      "422414    surgeons to remove 4yearolds rib to rebuild da...\n",
      "422415    boy to have surgery on esophagus after battery...\n",
      "422416    child who swallowed battery to have reconstruc...\n",
      "422417    phoenix boy undergoes surgery to repair throat...\n",
      "422418    phoenix boy undergoes surgery to repair throat...\n",
      "Name: TITLE, Length: 422419, dtype: object\n",
      "Training dataset:  337935\n",
      "Test dataset:  84484\n"
     ]
    }
   ],
   "source": [
    "import string\n",
    "# Select the relevant columns (ID and TITLE)\n",
    "df = df[['TITLE','CATEGORY']]\n",
    "\n",
    "df['CATEGORY'] = df.CATEGORY.map({'b':1, 't':2, 'e':3, 'm':4})\n",
    "df['TITLE'] = df.TITLE.map(\n",
    "    lambda x: x.lower().translate(str.maketrans('','', string.punctuation))\n",
    ")\n",
    "print(df['TITLE'])\n",
    "\n",
    "# Split the data into training and testing sets\n",
    "x_train,x_test,y_train, y_test = train_test_split(\n",
    "    df['TITLE'], df['CATEGORY'], test_size=0.2, random_state = 42)\n",
    "print(\"Training dataset: \", x_train.shape[0])\n",
    "print(\"Test dataset: \", x_test.shape[0])"
   ]
  },
  {
   "cell_type": "code",
   "execution_count": 4,
   "id": "75e438d7",
   "metadata": {
    "ExecuteTime": {
     "end_time": "2024-01-10T02:40:39.908282700Z",
     "start_time": "2024-01-10T02:40:36.578810400Z"
    }
   },
   "outputs": [],
   "source": [
    "\n",
    "count_vector = CountVectorizer(stop_words=\"english\")\n",
    "    \n",
    "x_training = count_vector.fit_transform(x_train)\n",
    "x_testing = count_vector.transform(x_test)"
   ]
  },
  {
   "cell_type": "code",
   "execution_count": null,
   "id": "1c4a9ab1",
   "metadata": {
    "ExecuteTime": {
     "start_time": "2024-01-10T02:40:39.908282700Z"
    },
    "is_executing": true
   },
   "outputs": [],
   "source": [
    "# Initialize the Decision Tree classifier\n",
    "clf = DecisionTreeClassifier()\n",
    "# Train the classifier\n",
    "\n",
    "clf.fit(x_training,y_train)"
   ]
  },
  {
   "cell_type": "code",
   "execution_count": null,
   "id": "1dba417541b94cc4",
   "metadata": {
    "is_executing": true
   },
   "outputs": [],
   "source": []
  },
  {
   "cell_type": "code",
   "execution_count": null,
   "id": "92880442",
   "metadata": {
    "is_executing": true
   },
   "outputs": [],
   "source": [
    "#make prediction on the testing data\n",
    "y_pred = clf.predict(x_testing)\n"
   ]
  },
  {
   "cell_type": "code",
   "execution_count": null,
   "id": "f6618dc1",
   "metadata": {
    "is_executing": true
   },
   "outputs": [],
   "source": [
    "accuracy = accuracy_score(y_test, y_pred)\n",
    "precision = precision_score(y_test, y_pred, average='macro')\n",
    "recall = recall_score(y_test, y_pred, average='macro')\n",
    "F1_score = f1_score(y_test, y_pred, average='macro')"
   ]
  },
  {
   "cell_type": "code",
   "execution_count": null,
   "id": "c4bd9a04096d8faf",
   "metadata": {
    "is_executing": true
   },
   "outputs": [],
   "source": [
    "from sklearn.tree import export_graphviz\n",
    "import graphviz\n",
    "\n",
    "# Export the Decision Tree as DOT file\n",
    "dot_data = export_graphviz(clf, out_file=None, \n",
    "                           feature_names=count_vector.get_feature_names(),  \n",
    "                           class_names=df['CATEGORY'].unique(),  \n",
    "                           filled=True, rounded=True,  \n",
    "                           special_characters=True)\n",
    "\n",
    "# Create a graph from the DOT data\n",
    "graph = graphviz.Source(dot_data)\n",
    "\n",
    "# Display the graph\n",
    "graph\n"
   ]
  },
  {
   "cell_type": "code",
   "execution_count": null,
   "id": "33c3f7938ee2860b",
   "metadata": {
    "is_executing": true
   },
   "outputs": [],
   "source": [
    "print(\"Accuracy: \", accuracy)\n",
    "print(\"Precision: \", precision)\n",
    "print(\"Recall: \", recall)\n",
    "print(\"F1_Score: \", F1_score)"
   ]
  }
 ],
 "metadata": {
  "kernelspec": {
   "display_name": "Python 3 (ipykernel)",
   "language": "python",
   "name": "python3"
  },
  "language_info": {
   "codemirror_mode": {
    "name": "ipython",
    "version": 3
   },
   "file_extension": ".py",
   "mimetype": "text/x-python",
   "name": "python",
   "nbconvert_exporter": "python",
   "pygments_lexer": "ipython3",
   "version": "3.11.5"
  }
 },
 "nbformat": 4,
 "nbformat_minor": 5
}
