{
 "cells": [
  {
   "cell_type": "code",
   "execution_count": 1,
   "id": "initial_id",
   "metadata": {
    "ExecuteTime": {
<<<<<<< HEAD
     "end_time": "2023-11-30T10:13:37.504311800Z",
     "start_time": "2023-11-30T10:13:37.493193600Z"
    },
    "collapsed": true
=======
     "end_time": "2023-12-12T06:00:43.170674Z",
     "start_time": "2023-12-12T06:00:42.564244500Z"
    }
>>>>>>> cfc460ca5cbc5d4131dfc72616a5473e18cf3e69
   },
   "outputs": [],
   "source": [
    "import pandas as pd"
   ]
  },
  {
   "cell_type": "code",
<<<<<<< HEAD
   "execution_count": 12,
   "id": "5139f9ea6be1d15",
   "metadata": {
    "ExecuteTime": {
     "end_time": "2023-11-30T10:13:37.520542Z",
     "start_time": "2023-11-30T10:13:37.500311300Z"
    }
   },
   "outputs": [
    {
     "data": {
      "text/html": [
       "<div>\n",
       "<style scoped>\n",
       "    .dataframe tbody tr th:only-of-type {\n",
       "        vertical-align: middle;\n",
       "    }\n",
       "\n",
       "    .dataframe tbody tr th {\n",
       "        vertical-align: top;\n",
       "    }\n",
       "\n",
       "    .dataframe thead th {\n",
       "        text-align: right;\n",
       "    }\n",
       "</style>\n",
       "<table border=\"1\" class=\"dataframe\">\n",
       "  <thead>\n",
       "    <tr style=\"text-align: right;\">\n",
       "      <th></th>\n",
       "      <th>Customer_Id</th>\n",
       "      <th>Gender</th>\n",
       "      <th>Car_type</th>\n",
       "      <th>Shirt_Size</th>\n",
       "      <th>Class</th>\n",
       "    </tr>\n",
       "  </thead>\n",
       "  <tbody>\n",
       "    <tr>\n",
       "      <th>0</th>\n",
       "      <td>1</td>\n",
       "      <td>M</td>\n",
       "      <td>Family</td>\n",
       "      <td>Small</td>\n",
       "      <td>C0</td>\n",
       "    </tr>\n",
       "    <tr>\n",
       "      <th>1</th>\n",
       "      <td>2</td>\n",
       "      <td>M</td>\n",
       "      <td>Sports</td>\n",
       "      <td>Medium</td>\n",
       "      <td>C0</td>\n",
       "    </tr>\n",
       "    <tr>\n",
       "      <th>2</th>\n",
       "      <td>3</td>\n",
       "      <td>M</td>\n",
       "      <td>Sports</td>\n",
       "      <td>Medium</td>\n",
       "      <td>C0</td>\n",
       "    </tr>\n",
       "    <tr>\n",
       "      <th>3</th>\n",
       "      <td>4</td>\n",
       "      <td>M</td>\n",
       "      <td>Sports</td>\n",
       "      <td>Large</td>\n",
       "      <td>C0</td>\n",
       "    </tr>\n",
       "    <tr>\n",
       "      <th>4</th>\n",
       "      <td>5</td>\n",
       "      <td>M</td>\n",
       "      <td>Sports</td>\n",
       "      <td>Extra Large</td>\n",
       "      <td>C0</td>\n",
       "    </tr>\n",
       "  </tbody>\n",
       "</table>\n",
       "</div>"
      ],
      "text/plain": [
       "   Customer_Id Gender Car_type   Shirt_Size Class\n",
       "0            1      M   Family        Small    C0\n",
       "1            2      M   Sports       Medium    C0\n",
       "2            3      M   Sports       Medium    C0\n",
       "3            4      M   Sports        Large    C0\n",
       "4            5      M   Sports  Extra Large    C0"
      ]
     },
     "execution_count": 12,
     "metadata": {},
     "output_type": "execute_result"
    }
   ],
   "source": [
    "df = pd.read_csv(\"HomeWorkDataSet.csv\")\n",
    "# For starters, let’s read in and check out the first five rows of the data:\n",
    "df.head()"
   ]
  },
  {
   "cell_type": "code",
   "execution_count": 13,
   "id": "5462c21fd486e3c3",
   "metadata": {
    "ExecuteTime": {
     "end_time": "2023-11-30T10:13:37.520542Z",
     "start_time": "2023-11-30T10:13:37.508239700Z"
    }
   },
   "outputs": [
    {
     "data": {
      "text/plain": [
       "array(['M', 'F'], dtype=object)"
      ]
     },
     "execution_count": 13,
     "metadata": {},
     "output_type": "execute_result"
    }
   ],
   "source": [
    "# With unique() we can check what kind of Gender we’re dealing with:\n",
    "df[\"Gender\"].unique()"
   ]
  },
  {
   "cell_type": "code",
   "execution_count": 14,
   "id": "b3031cffe355b86c",
=======
   "execution_count": 2,
   "outputs": [],
   "source": [
    "data = pd.read_csv('HomeWorkDataSet.csv')"
   ],
   "metadata": {
    "collapsed": false,
    "ExecuteTime": {
     "end_time": "2023-12-12T06:00:43.178853900Z",
     "start_time": "2023-12-12T06:00:43.166523400Z"
    }
   },
   "id": "5139f9ea6be1d15"
  },
  {
   "cell_type": "code",
   "execution_count": 3,
   "outputs": [],
   "source": [
    "# Split Criterion: Gender\n",
    "gender_counts = data['Gender'].value_counts()\n",
    "gender_total = len(data)\n",
    "gender_gini = 1 - ((gender_counts['M'] / gender_total) ** 2) - ((gender_counts['F'] / gender_total) ** 2)\n",
    "gender_weighted_gini = (gender_counts['M'] / gender_total) * gender_gini + (gender_counts['F'] / gender_total) * gender_gini"
   ],
   "metadata": {
    "collapsed": false,
    "ExecuteTime": {
     "end_time": "2023-12-12T06:00:43.189877300Z",
     "start_time": "2023-12-12T06:00:43.178853900Z"
    }
   },
   "id": "9df3c6148f1c7995"
  },
  {
   "cell_type": "code",
   "execution_count": 4,
   "outputs": [],
   "source": [
    "# Split Criterion: Car type\n",
    "car_type_counts = data['Car_type'].value_counts()\n",
    "car_type_total = len(data)\n",
    "car_type_gini = 1 - ((car_type_counts['Family'] / car_type_total) ** 2) - ((car_type_counts['Sports'] / car_type_total) ** 2) - ((car_type_counts['Luxury'] / car_type_total) ** 2)\n",
    "car_type_weighted_gini = (car_type_counts['Family'] / car_type_total) * car_type_gini + (car_type_counts['Sports'] / car_type_total) * car_type_gini + (car_type_counts['Luxury'] / car_type_total) * car_type_gini"
   ],
   "metadata": {
    "collapsed": false,
    "ExecuteTime": {
     "end_time": "2023-12-12T06:00:43.197717900Z",
     "start_time": "2023-12-12T06:00:43.189877300Z"
    }
   },
   "id": "5462c21fd486e3c3"
  },
  {
   "cell_type": "code",
   "execution_count": 5,
   "outputs": [],
   "source": [
    "# Split Criterion: Shirt Size\n",
    "shirt_size_counts = data['Shirt_Size'].value_counts()\n",
    "shirt_size_total = len(data)\n",
    "shirt_size_gini = 1 - ((shirt_size_counts['Small'] / shirt_size_total) ** 2) - ((shirt_size_counts['Medium'] / shirt_size_total) ** 2) - ((shirt_size_counts['Large'] / shirt_size_total) ** 2) - ((shirt_size_counts['Extra Large'] / shirt_size_total) ** 2)\n",
    "shirt_size_weighted_gini = (shirt_size_counts['Small'] / shirt_size_total) * shirt_size_gini + (shirt_size_counts['Medium'] / shirt_size_total) * shirt_size_gini + (shirt_size_counts['Large'] / shirt_size_total) * shirt_size_gini + (shirt_size_counts['Extra Large'] / shirt_size_total) * shirt_size_gini"
   ],
>>>>>>> cfc460ca5cbc5d4131dfc72616a5473e18cf3e69
   "metadata": {
    "ExecuteTime": {
     "end_time": "2023-12-12T06:00:43.219166Z",
     "start_time": "2023-12-12T06:00:43.197717900Z"
    }
   },
   "outputs": [],
   "source": [
    "# We won’t need the customer ids, so let’s drop that column:\n",
    "df = df.drop(\"Customer_Id\", axis=1)"
   ]
  },
  {
   "cell_type": "code",
<<<<<<< HEAD
   "execution_count": 16,
   "id": "6336070f4ac75833",
   "metadata": {
    "ExecuteTime": {
     "end_time": "2023-11-30T10:13:58.971919600Z",
     "start_time": "2023-11-30T10:13:58.944418300Z"
    }
   },
   "outputs": [
    {
     "data": {
      "text/html": [
       "<div>\n",
       "<style scoped>\n",
       "    .dataframe tbody tr th:only-of-type {\n",
       "        vertical-align: middle;\n",
       "    }\n",
       "\n",
       "    .dataframe tbody tr th {\n",
       "        vertical-align: top;\n",
       "    }\n",
       "\n",
       "    .dataframe thead th {\n",
       "        text-align: right;\n",
       "    }\n",
       "</style>\n",
       "<table border=\"1\" class=\"dataframe\">\n",
       "  <thead>\n",
       "    <tr style=\"text-align: right;\">\n",
       "      <th></th>\n",
       "      <th>Car_type_Family</th>\n",
       "      <th>Car_type_Luxury</th>\n",
       "      <th>Car_type_Sports</th>\n",
       "      <th>Shirt_Size_Extra Large</th>\n",
       "      <th>Shirt_Size_Large</th>\n",
       "      <th>Shirt_Size_Medium</th>\n",
       "      <th>Shirt_Size_Small</th>\n",
       "      <th>Class_C0</th>\n",
       "      <th>Class_C1</th>\n",
       "    </tr>\n",
       "  </thead>\n",
       "  <tbody>\n",
       "    <tr>\n",
       "      <th>0</th>\n",
       "      <td>True</td>\n",
       "      <td>False</td>\n",
       "      <td>False</td>\n",
       "      <td>False</td>\n",
       "      <td>False</td>\n",
       "      <td>False</td>\n",
       "      <td>True</td>\n",
       "      <td>True</td>\n",
       "      <td>False</td>\n",
       "    </tr>\n",
       "    <tr>\n",
       "      <th>1</th>\n",
       "      <td>False</td>\n",
       "      <td>False</td>\n",
       "      <td>True</td>\n",
       "      <td>False</td>\n",
       "      <td>False</td>\n",
       "      <td>True</td>\n",
       "      <td>False</td>\n",
       "      <td>True</td>\n",
       "      <td>False</td>\n",
       "    </tr>\n",
       "    <tr>\n",
       "      <th>2</th>\n",
       "      <td>False</td>\n",
       "      <td>False</td>\n",
       "      <td>True</td>\n",
       "      <td>False</td>\n",
       "      <td>False</td>\n",
       "      <td>True</td>\n",
       "      <td>False</td>\n",
       "      <td>True</td>\n",
       "      <td>False</td>\n",
       "    </tr>\n",
       "    <tr>\n",
       "      <th>3</th>\n",
       "      <td>False</td>\n",
       "      <td>False</td>\n",
       "      <td>True</td>\n",
       "      <td>False</td>\n",
       "      <td>True</td>\n",
       "      <td>False</td>\n",
       "      <td>False</td>\n",
       "      <td>True</td>\n",
       "      <td>False</td>\n",
       "    </tr>\n",
       "    <tr>\n",
       "      <th>4</th>\n",
       "      <td>False</td>\n",
       "      <td>False</td>\n",
       "      <td>True</td>\n",
       "      <td>True</td>\n",
       "      <td>False</td>\n",
       "      <td>False</td>\n",
       "      <td>False</td>\n",
       "      <td>True</td>\n",
       "      <td>False</td>\n",
       "    </tr>\n",
       "    <tr>\n",
       "      <th>5</th>\n",
       "      <td>False</td>\n",
       "      <td>False</td>\n",
       "      <td>True</td>\n",
       "      <td>True</td>\n",
       "      <td>False</td>\n",
       "      <td>False</td>\n",
       "      <td>False</td>\n",
       "      <td>True</td>\n",
       "      <td>False</td>\n",
       "    </tr>\n",
       "    <tr>\n",
       "      <th>6</th>\n",
       "      <td>False</td>\n",
       "      <td>False</td>\n",
       "      <td>True</td>\n",
       "      <td>False</td>\n",
       "      <td>False</td>\n",
       "      <td>False</td>\n",
       "      <td>True</td>\n",
       "      <td>True</td>\n",
       "      <td>False</td>\n",
       "    </tr>\n",
       "    <tr>\n",
       "      <th>7</th>\n",
       "      <td>False</td>\n",
       "      <td>False</td>\n",
       "      <td>True</td>\n",
       "      <td>False</td>\n",
       "      <td>False</td>\n",
       "      <td>False</td>\n",
       "      <td>True</td>\n",
       "      <td>True</td>\n",
       "      <td>False</td>\n",
       "    </tr>\n",
       "    <tr>\n",
       "      <th>8</th>\n",
       "      <td>False</td>\n",
       "      <td>False</td>\n",
       "      <td>True</td>\n",
       "      <td>False</td>\n",
       "      <td>False</td>\n",
       "      <td>True</td>\n",
       "      <td>False</td>\n",
       "      <td>True</td>\n",
       "      <td>False</td>\n",
       "    </tr>\n",
       "    <tr>\n",
       "      <th>9</th>\n",
       "      <td>False</td>\n",
       "      <td>True</td>\n",
       "      <td>False</td>\n",
       "      <td>False</td>\n",
       "      <td>True</td>\n",
       "      <td>False</td>\n",
       "      <td>False</td>\n",
       "      <td>False</td>\n",
       "      <td>True</td>\n",
       "    </tr>\n",
       "    <tr>\n",
       "      <th>10</th>\n",
       "      <td>True</td>\n",
       "      <td>False</td>\n",
       "      <td>False</td>\n",
       "      <td>False</td>\n",
       "      <td>True</td>\n",
       "      <td>False</td>\n",
       "      <td>False</td>\n",
       "      <td>False</td>\n",
       "      <td>True</td>\n",
       "    </tr>\n",
       "    <tr>\n",
       "      <th>11</th>\n",
       "      <td>True</td>\n",
       "      <td>False</td>\n",
       "      <td>False</td>\n",
       "      <td>True</td>\n",
       "      <td>False</td>\n",
       "      <td>False</td>\n",
       "      <td>False</td>\n",
       "      <td>False</td>\n",
       "      <td>True</td>\n",
       "    </tr>\n",
       "    <tr>\n",
       "      <th>12</th>\n",
       "      <td>True</td>\n",
       "      <td>False</td>\n",
       "      <td>False</td>\n",
       "      <td>False</td>\n",
       "      <td>False</td>\n",
       "      <td>True</td>\n",
       "      <td>False</td>\n",
       "      <td>False</td>\n",
       "      <td>True</td>\n",
       "    </tr>\n",
       "    <tr>\n",
       "      <th>13</th>\n",
       "      <td>False</td>\n",
       "      <td>True</td>\n",
       "      <td>False</td>\n",
       "      <td>True</td>\n",
       "      <td>False</td>\n",
       "      <td>False</td>\n",
       "      <td>False</td>\n",
       "      <td>False</td>\n",
       "      <td>True</td>\n",
       "    </tr>\n",
       "    <tr>\n",
       "      <th>14</th>\n",
       "      <td>False</td>\n",
       "      <td>True</td>\n",
       "      <td>False</td>\n",
       "      <td>False</td>\n",
       "      <td>False</td>\n",
       "      <td>False</td>\n",
       "      <td>True</td>\n",
       "      <td>False</td>\n",
       "      <td>True</td>\n",
       "    </tr>\n",
       "    <tr>\n",
       "      <th>15</th>\n",
       "      <td>False</td>\n",
       "      <td>True</td>\n",
       "      <td>False</td>\n",
       "      <td>False</td>\n",
       "      <td>False</td>\n",
       "      <td>False</td>\n",
       "      <td>True</td>\n",
       "      <td>False</td>\n",
       "      <td>True</td>\n",
       "    </tr>\n",
       "    <tr>\n",
       "      <th>16</th>\n",
       "      <td>False</td>\n",
       "      <td>True</td>\n",
       "      <td>False</td>\n",
       "      <td>False</td>\n",
       "      <td>False</td>\n",
       "      <td>True</td>\n",
       "      <td>False</td>\n",
       "      <td>False</td>\n",
       "      <td>True</td>\n",
       "    </tr>\n",
       "    <tr>\n",
       "      <th>17</th>\n",
       "      <td>False</td>\n",
       "      <td>True</td>\n",
       "      <td>False</td>\n",
       "      <td>False</td>\n",
       "      <td>False</td>\n",
       "      <td>True</td>\n",
       "      <td>False</td>\n",
       "      <td>False</td>\n",
       "      <td>True</td>\n",
       "    </tr>\n",
       "    <tr>\n",
       "      <th>18</th>\n",
       "      <td>False</td>\n",
       "      <td>True</td>\n",
       "      <td>False</td>\n",
       "      <td>False</td>\n",
       "      <td>False</td>\n",
       "      <td>True</td>\n",
       "      <td>False</td>\n",
       "      <td>False</td>\n",
       "      <td>True</td>\n",
       "    </tr>\n",
       "    <tr>\n",
       "      <th>19</th>\n",
       "      <td>False</td>\n",
       "      <td>True</td>\n",
       "      <td>False</td>\n",
       "      <td>False</td>\n",
       "      <td>True</td>\n",
       "      <td>False</td>\n",
       "      <td>False</td>\n",
       "      <td>False</td>\n",
       "      <td>True</td>\n",
       "    </tr>\n",
       "  </tbody>\n",
       "</table>\n",
       "</div>"
      ],
      "text/plain": [
       "    Car_type_Family  Car_type_Luxury  Car_type_Sports  Shirt_Size_Extra Large  \\\n",
       "0              True            False            False                   False   \n",
       "1             False            False             True                   False   \n",
       "2             False            False             True                   False   \n",
       "3             False            False             True                   False   \n",
       "4             False            False             True                    True   \n",
       "5             False            False             True                    True   \n",
       "6             False            False             True                   False   \n",
       "7             False            False             True                   False   \n",
       "8             False            False             True                   False   \n",
       "9             False             True            False                   False   \n",
       "10             True            False            False                   False   \n",
       "11             True            False            False                    True   \n",
       "12             True            False            False                   False   \n",
       "13            False             True            False                    True   \n",
       "14            False             True            False                   False   \n",
       "15            False             True            False                   False   \n",
       "16            False             True            False                   False   \n",
       "17            False             True            False                   False   \n",
       "18            False             True            False                   False   \n",
       "19            False             True            False                   False   \n",
       "\n",
       "    Shirt_Size_Large  Shirt_Size_Medium  Shirt_Size_Small  Class_C0  Class_C1  \n",
       "0              False              False              True      True     False  \n",
       "1              False               True             False      True     False  \n",
       "2              False               True             False      True     False  \n",
       "3               True              False             False      True     False  \n",
       "4              False              False             False      True     False  \n",
       "5              False              False             False      True     False  \n",
       "6              False              False              True      True     False  \n",
       "7              False              False              True      True     False  \n",
       "8              False               True             False      True     False  \n",
       "9               True              False             False     False      True  \n",
       "10              True              False             False     False      True  \n",
       "11             False              False             False     False      True  \n",
       "12             False               True             False     False      True  \n",
       "13             False              False             False     False      True  \n",
       "14             False              False              True     False      True  \n",
       "15             False              False              True     False      True  \n",
       "16             False               True             False     False      True  \n",
       "17             False               True             False     False      True  \n",
       "18             False               True             False     False      True  \n",
       "19              True              False             False     False      True  "
      ]
     },
     "execution_count": 16,
     "metadata": {},
     "output_type": "execute_result"
    }
   ],
   "source": [
    "#Because the decision trees in scikit-learn can’t work with string values, we need to convert strings to numbers with get_dummies():\n",
    "pd.get_dummies(df.drop(\"Gender\", axis=1))"
   ]
  },
  {
   "cell_type": "code",
   "execution_count": null,
   "id": "f6af7c8d9dc978f1",
   "metadata": {},
   "outputs": [],
   "source": []
=======
   "execution_count": 6,
   "outputs": [
    {
     "name": "stdout",
     "output_type": "stream",
     "text": [
      "Gini Index for Gender: 0.5\n",
      "Gini Index for Car type: 0.6399999999999999\n",
      "Gini Index for Shirt Size: 0.735\n"
     ]
    }
   ],
   "source": [
    "print(\"Gini Index for Gender:\", gender_weighted_gini)\n",
    "print(\"Gini Index for Car type:\", car_type_weighted_gini)\n",
    "print(\"Gini Index for Shirt Size:\", shirt_size_weighted_gini)"
   ],
   "metadata": {
    "collapsed": false,
    "ExecuteTime": {
     "end_time": "2023-12-12T06:00:43.219166Z",
     "start_time": "2023-12-12T06:00:43.205160200Z"
    }
   },
   "id": "46a436e82526caf0"
>>>>>>> cfc460ca5cbc5d4131dfc72616a5473e18cf3e69
  }
 ],
 "metadata": {
  "kernelspec": {
   "display_name": "Python 3 (ipykernel)",
   "language": "python",
   "name": "python3"
  },
  "language_info": {
   "codemirror_mode": {
    "name": "ipython",
    "version": 3
   },
   "file_extension": ".py",
   "mimetype": "text/x-python",
   "name": "python",
   "nbconvert_exporter": "python",
   "pygments_lexer": "ipython3",
   "version": "3.11.5"
  }
 },
 "nbformat": 4,
 "nbformat_minor": 5
}
