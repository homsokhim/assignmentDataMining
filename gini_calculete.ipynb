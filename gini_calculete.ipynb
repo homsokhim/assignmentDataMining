{
 "cells": [
  {
   "cell_type": "code",
   "execution_count": 1,
   "id": "initial_id",
   "metadata": {
    "ExecuteTime": {
   },
   "outputs": [],
   "source": [
    "import pandas as pd"
   ]
  },
  {
   "cell_type": "code",
   "metadata": {
    "ExecuteTime": {
   ],
   "metadata": {
    "collapsed": false,
    "ExecuteTime": {
     "end_time": "2023-12-12T06:00:43.189877300Z",
     "start_time": "2023-12-12T06:00:43.178853900Z"
    }
   },
   "id": "9df3c6148f1c7995"
  },
  {
   "cell_type": "code",
   "metadata": {
    "ExecuteTime": {
     "end_time": "2023-12-12T06:00:43.219166Z",
     "start_time": "2023-12-12T06:00:43.197717900Z"
    }
   },
   "outputs": [],
   "source": [
    "# We won’t need the customer ids, so let’s drop that column:\n",
    "df = df.drop(\"Customer_Id\", axis=1)"
   ]
  },
  {
   "cell_type": "code",
  }
 ],
 "metadata": {
  "kernelspec": {
   "display_name": "Python 3 (ipykernel)",
   "language": "python",
   "name": "python3"
  },
  "language_info": {
   "codemirror_mode": {
    "name": "ipython",
    "version": 3
   },
   "file_extension": ".py",
   "mimetype": "text/x-python",
   "name": "python",
   "nbconvert_exporter": "python",
   "pygments_lexer": "ipython3",
   "version": "3.11.5"
  }
 },
 "nbformat": 4,
 "nbformat_minor": 5
}
