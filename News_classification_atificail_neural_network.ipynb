{
 "cells": [
  {
   "cell_type": "code",
   "execution_count": 84,
   "id": "initial_id",
   "metadata": {
    "collapsed": true,
    "ExecuteTime": {
     "end_time": "2024-01-09T17:28:18.094909300Z",
     "start_time": "2024-01-09T17:28:18.082743400Z"
    }
   },
   "outputs": [],
   "source": [
    "import pandas as pd\n",
    "import numpy as np\n",
    "import re\n",
    "from sklearn.model_selection import train_test_split\n",
    "from sklearn.preprocessing import LabelEncoder\n",
    "from tensorflow.keras.preprocessing.text import Tokenizer\n",
    "from tensorflow.keras.preprocessing.sequence import pad_sequences\n",
    "from tensorflow.keras.models import Sequential\n",
    "from tensorflow.keras.layers import Embedding, LSTM, Dense\n",
    "from tensorflow.keras.metrics import Recall, Precision\n",
    "from tensorflow.keras.utils import plot_model"
   ]
  },
  {
   "cell_type": "code",
   "execution_count": 85,
   "outputs": [],
   "source": [
    "df = pd.read_csv('uci-news-aggregator.csv')"
   ],
   "metadata": {
    "collapsed": false,
    "ExecuteTime": {
     "end_time": "2024-01-09T17:28:19.624197Z",
     "start_time": "2024-01-09T17:28:18.094909300Z"
    }
   },
   "id": "c58c7b90dc704156"
  },
  {
   "cell_type": "code",
   "execution_count": 86,
   "outputs": [],
   "source": [
    "# Clean the headlines\n",
    "def clean_text(text):\n",
    "    text = re.sub(r'\\W', ' ', text)  # Remove non-alphanumeric characters\n",
    "    text = re.sub(r'\\s+', ' ', text)  # Remove extra spaces\n",
    "    text = text.lower().strip()  # Convert to lowercase and remove leading/trailing spaces\n",
    "    return text\n",
    "\n",
    "df['clean_title'] = df['TITLE'].apply(clean_text)"
   ],
   "metadata": {
    "collapsed": false,
    "ExecuteTime": {
     "end_time": "2024-01-09T17:28:22.133043900Z",
     "start_time": "2024-01-09T17:28:19.671115Z"
    }
   },
   "id": "3e7bf0d68059f8a2"
  },
  {
   "cell_type": "code",
   "execution_count": 87,
   "outputs": [],
   "source": [
    "# Split the data into training and testing sets\n",
    "X = df['clean_title']\n",
    "y = df['CATEGORY']\n",
    "X_train, X_test, y_train, y_test = train_test_split(X, y, test_size=0.2, random_state=42)"
   ],
   "metadata": {
    "collapsed": false,
    "ExecuteTime": {
     "end_time": "2024-01-09T17:28:22.288772300Z",
     "start_time": "2024-01-09T17:28:22.179942600Z"
    }
   },
   "id": "c8dd6d68ae25463b"
  },
  {
   "cell_type": "code",
   "execution_count": 88,
   "outputs": [],
   "source": [
    "# Encode the labels\n",
    "label_encoder = LabelEncoder()\n",
    "y_train = label_encoder.fit_transform(y_train)\n",
    "y_test = label_encoder.transform(y_test)"
   ],
   "metadata": {
    "collapsed": false,
    "ExecuteTime": {
     "end_time": "2024-01-09T17:28:22.344537300Z",
     "start_time": "2024-01-09T17:28:22.288772300Z"
    }
   },
   "id": "71ce737e52a6e331"
  },
  {
   "cell_type": "code",
   "execution_count": 89,
   "outputs": [],
   "source": [
    "vocab_size = 5000\n",
    "max_length = 5\n",
    "\n",
    "tokenizer = Tokenizer(num_words=vocab_size)\n",
    "tokenizer.fit_on_texts(X_train)\n",
    "\n",
    "X_train_seq = tokenizer.texts_to_sequences(X_train)\n",
    "X_train_pad = pad_sequences(X_train_seq, maxlen=max_length, padding='post')\n",
    "\n",
    "X_test_seq = tokenizer.texts_to_sequences(X_test)\n",
    "X_test_pad = pad_sequences(X_test_seq, maxlen=max_length, padding='post')"
   ],
   "metadata": {
    "collapsed": false,
    "ExecuteTime": {
     "end_time": "2024-01-09T17:28:30.689335800Z",
     "start_time": "2024-01-09T17:28:22.344537300Z"
    }
   },
   "id": "e5e7e7eaa0d958d9"
  },
  {
   "cell_type": "code",
   "execution_count": 90,
   "outputs": [
    {
     "name": "stdout",
     "output_type": "stream",
     "text": [
      "Epoch 1/10\n",
      "10561/10561 [==============================] - 35s 3ms/step - loss: -172.6852 - accuracy: 0.4860 - recall_2: 0.9808 - precision_2: 0.8330\n",
      "Epoch 2/10\n",
      "10561/10561 [==============================] - 32s 3ms/step - loss: -511.4729 - accuracy: 0.5025 - recall_2: 0.9778 - precision_2: 0.8512\n",
      "Epoch 3/10\n",
      "10561/10561 [==============================] - 32s 3ms/step - loss: -852.4367 - accuracy: 0.5017 - recall_2: 0.9768 - precision_2: 0.8510\n",
      "Epoch 4/10\n",
      "10561/10561 [==============================] - 34s 3ms/step - loss: -1196.3899 - accuracy: 0.5042 - recall_2: 0.9761 - precision_2: 0.8538\n",
      "Epoch 5/10\n",
      "10561/10561 [==============================] - 39s 4ms/step - loss: -1545.4139 - accuracy: 0.5063 - recall_2: 0.9746 - precision_2: 0.8566\n",
      "Epoch 6/10\n",
      "10561/10561 [==============================] - 39s 4ms/step - loss: -1896.6658 - accuracy: 0.5071 - recall_2: 0.9736 - precision_2: 0.8579\n",
      "Epoch 7/10\n",
      "10561/10561 [==============================] - 37s 3ms/step - loss: -2247.3579 - accuracy: 0.5075 - recall_2: 0.9731 - precision_2: 0.8587\n",
      "Epoch 8/10\n",
      "10561/10561 [==============================] - 38s 4ms/step - loss: -2601.8760 - accuracy: 0.5087 - recall_2: 0.9719 - precision_2: 0.8607\n",
      "Epoch 9/10\n",
      "10561/10561 [==============================] - 36s 3ms/step - loss: -2956.1162 - accuracy: 0.5076 - recall_2: 0.9709 - precision_2: 0.8598\n",
      "Epoch 10/10\n",
      "10561/10561 [==============================] - 36s 3ms/step - loss: -3309.3247 - accuracy: 0.5084 - recall_2: 0.9701 - precision_2: 0.8609\n"
     ]
    },
    {
     "data": {
      "text/plain": "<keras.src.callbacks.History at 0x1b617a9c250>"
     },
     "execution_count": 90,
     "metadata": {},
     "output_type": "execute_result"
    }
   ],
   "source": [
    "embedding_dim = 16\n",
    "\n",
    "model = Sequential()\n",
    "model.add(Embedding(vocab_size, embedding_dim, input_length=max_length))\n",
    "model.add(LSTM(64, dropout=0.2))\n",
    "model.add(Dense(1, activation='sigmoid'))\n",
    "\n",
    "model.compile(loss='binary_crossentropy', optimizer='adam', \n",
    "              metrics=['accuracy', Recall(), Precision()])\n",
    "\n",
    "model.fit(X_train_pad, y_train, epochs=10, batch_size=32)"
   ],
   "metadata": {
    "collapsed": false,
    "ExecuteTime": {
     "end_time": "2024-01-09T17:34:29.038125500Z",
     "start_time": "2024-01-09T17:28:30.689335800Z"
    }
   },
   "id": "c6df7f65f6304fcc"
  },
  {
   "cell_type": "code",
   "execution_count": 91,
   "outputs": [
    {
     "name": "stdout",
     "output_type": "stream",
     "text": [
      "2641/2641 [==============================] - 5s 2ms/step - loss: -3391.4844 - accuracy: 0.4993 - recall_2: 0.9768 - precision_2: 0.8465\n",
      "Accuracy: 0.49932530522346497\n",
      "Recall: 0.9768298864364624\n",
      "Precision: 0.8464823961257935\n",
      "F1-score: 0.9069969097296315\n"
     ]
    }
   ],
   "source": [
    "loss, accuracy, recall, precision = model.evaluate(X_test_pad, y_test)\n",
    "f1 = 2 * (precision * recall) / (precision + recall)\n",
    "\n",
    "print(f\"Accuracy: {accuracy}\")\n",
    "print(f\"Recall: {recall}\")\n",
    "print(f\"Precision: {precision}\")\n",
    "print(f\"F1-score: {f1}\")"
   ],
   "metadata": {
    "collapsed": false,
    "ExecuteTime": {
     "end_time": "2024-01-09T17:34:34.066410100Z",
     "start_time": "2024-01-09T17:34:29.038125500Z"
    }
   },
   "id": "770ffce0f36ae40b"
  },
  {
   "cell_type": "code",
   "execution_count": 92,
   "outputs": [
    {
     "name": "stdout",
     "output_type": "stream",
     "text": [
      "You must install pydot (`pip install pydot`) and install graphviz (see instructions at https://graphviz.gitlab.io/download/) for plot_model to work.\n"
     ]
    }
   ],
   "source": [
    "plot_model(model, to_file='model.png', show_shapes=True, show_layer_names=True)"
   ],
   "metadata": {
    "collapsed": false,
    "ExecuteTime": {
     "end_time": "2024-01-09T17:34:34.076502800Z",
     "start_time": "2024-01-09T17:34:34.066410100Z"
    }
   },
   "id": "6a09cc4b8e46749b"
  },
  {
   "cell_type": "code",
   "execution_count": 92,
   "outputs": [],
   "source": [],
   "metadata": {
    "collapsed": false,
    "ExecuteTime": {
     "end_time": "2024-01-09T17:34:34.076502800Z",
     "start_time": "2024-01-09T17:34:34.075986200Z"
    }
   },
   "id": "b146632f9c6dbbcc"
  }
 ],
 "metadata": {
  "kernelspec": {
   "display_name": "Python 3",
   "language": "python",
   "name": "python3"
  },
  "language_info": {
   "codemirror_mode": {
    "name": "ipython",
    "version": 2
   },
   "file_extension": ".py",
   "mimetype": "text/x-python",
   "name": "python",
   "nbconvert_exporter": "python",
   "pygments_lexer": "ipython2",
   "version": "2.7.6"
  }
 },
 "nbformat": 4,
 "nbformat_minor": 5
}
