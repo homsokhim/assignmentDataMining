{
 "cells": [
  {
   "cell_type": "code",
   "execution_count": 143,
   "id": "ab0718c8",
   "metadata": {
    "ExecuteTime": {
     "end_time": "2024-01-09T09:56:39.260764700Z",
     "start_time": "2024-01-09T09:56:39.213880500Z"
    }
   },
   "outputs": [],
   "source": [
    "import pandas as pd\n",
    "from sklearn.model_selection import train_test_split\n",
    "from sklearn.feature_extraction.text import CountVectorizer \n",
    "from sklearn.tree import DecisionTreeClassifier\n",
    "from sklearn.metrics import accuracy_score, precision_score, recall_score, f1_score"
   ]
  },
  {
   "cell_type": "code",
   "execution_count": 144,
   "id": "4f4b5269",
   "metadata": {
    "ExecuteTime": {
     "end_time": "2024-01-09T09:56:40.672792900Z",
     "start_time": "2024-01-09T09:56:39.213880500Z"
    }
   },
   "outputs": [
    {
     "data": {
      "text/plain": "array(['b', 't', 'e', 'm'], dtype=object)"
     },
     "execution_count": 144,
     "metadata": {},
     "output_type": "execute_result"
    }
   ],
   "source": [
    "filename = 'uci-news-aggregator.csv'\n",
    "df = pd.read_csv(filename, sep= \",\")\n",
    "df.CATEGORY.unique()"
   ]
  },
  {
   "cell_type": "code",
   "execution_count": 145,
   "id": "db3d1bf6",
   "metadata": {
    "ExecuteTime": {
     "end_time": "2024-01-09T09:56:41.921546400Z",
     "start_time": "2024-01-09T09:56:40.691533800Z"
    }
   },
   "outputs": [
    {
     "name": "stdout",
     "output_type": "stream",
     "text": [
      "0         fed official says weak data caused by weather ...\n",
      "1         feds charles plosser sees high bar for change ...\n",
      "2         us open stocks fall after fed official hints a...\n",
      "3         fed risks falling behind the curve charles plo...\n",
      "4          feds plosser nasty weather has curbed job growth\n",
      "                                ...                        \n",
      "422414    surgeons to remove 4yearolds rib to rebuild da...\n",
      "422415    boy to have surgery on esophagus after battery...\n",
      "422416    child who swallowed battery to have reconstruc...\n",
      "422417    phoenix boy undergoes surgery to repair throat...\n",
      "422418    phoenix boy undergoes surgery to repair throat...\n",
      "Name: TITLE, Length: 422419, dtype: object\n",
      "Training dataset:  337935\n",
      "Test dataset:  84484\n"
     ]
    }
   ],
   "source": [
    "import string\n",
    "# Select the relevant columns (ID and TITLE)\n",
    "df = df[['TITLE','CATEGORY']]\n",
    "\n",
    "df['CATEGORY'] = df.CATEGORY.map({'b':1, 't':2, 'e':3, 'm':4})\n",
    "df['TITLE'] = df.TITLE.map(\n",
    "    lambda x: x.lower().translate(str.maketrans('','', string.punctuation))\n",
    ")\n",
    "print(df['TITLE'])\n",
    "\n",
    "# Split the data into training and testing sets\n",
    "x_train,x_test,y_train, y_test = train_test_split(\n",
    "    df['TITLE'], df['CATEGORY'], test_size=0.2, random_state = 42)\n",
    "print(\"Training dataset: \", x_train.shape[0])\n",
    "print(\"Test dataset: \", x_test.shape[0])"
   ]
  },
  {
   "cell_type": "code",
   "execution_count": 146,
   "id": "75e438d7",
   "metadata": {
    "ExecuteTime": {
     "end_time": "2024-01-09T09:56:45.133234900Z",
     "start_time": "2024-01-09T09:56:41.945520100Z"
    }
   },
   "outputs": [],
   "source": [
    "\n",
    "count_vector = CountVectorizer(stop_words=\"english\")\n",
    "    \n",
    "x_training = count_vector.fit_transform(x_train)\n",
    "x_testing = count_vector.transform(x_test)\n"
   ]
  },
  {
   "cell_type": "code",
   "execution_count": 147,
   "id": "1c4a9ab1",
   "metadata": {
    "ExecuteTime": {
     "end_time": "2024-01-09T10:00:22.664726600Z",
     "start_time": "2024-01-09T09:56:45.126973100Z"
    }
   },
   "outputs": [
    {
     "data": {
      "text/plain": "DecisionTreeClassifier()",
      "text/html": "<style>#sk-container-id-4 {color: black;}#sk-container-id-4 pre{padding: 0;}#sk-container-id-4 div.sk-toggleable {background-color: white;}#sk-container-id-4 label.sk-toggleable__label {cursor: pointer;display: block;width: 100%;margin-bottom: 0;padding: 0.3em;box-sizing: border-box;text-align: center;}#sk-container-id-4 label.sk-toggleable__label-arrow:before {content: \"▸\";float: left;margin-right: 0.25em;color: #696969;}#sk-container-id-4 label.sk-toggleable__label-arrow:hover:before {color: black;}#sk-container-id-4 div.sk-estimator:hover label.sk-toggleable__label-arrow:before {color: black;}#sk-container-id-4 div.sk-toggleable__content {max-height: 0;max-width: 0;overflow: hidden;text-align: left;background-color: #f0f8ff;}#sk-container-id-4 div.sk-toggleable__content pre {margin: 0.2em;color: black;border-radius: 0.25em;background-color: #f0f8ff;}#sk-container-id-4 input.sk-toggleable__control:checked~div.sk-toggleable__content {max-height: 200px;max-width: 100%;overflow: auto;}#sk-container-id-4 input.sk-toggleable__control:checked~label.sk-toggleable__label-arrow:before {content: \"▾\";}#sk-container-id-4 div.sk-estimator input.sk-toggleable__control:checked~label.sk-toggleable__label {background-color: #d4ebff;}#sk-container-id-4 div.sk-label input.sk-toggleable__control:checked~label.sk-toggleable__label {background-color: #d4ebff;}#sk-container-id-4 input.sk-hidden--visually {border: 0;clip: rect(1px 1px 1px 1px);clip: rect(1px, 1px, 1px, 1px);height: 1px;margin: -1px;overflow: hidden;padding: 0;position: absolute;width: 1px;}#sk-container-id-4 div.sk-estimator {font-family: monospace;background-color: #f0f8ff;border: 1px dotted black;border-radius: 0.25em;box-sizing: border-box;margin-bottom: 0.5em;}#sk-container-id-4 div.sk-estimator:hover {background-color: #d4ebff;}#sk-container-id-4 div.sk-parallel-item::after {content: \"\";width: 100%;border-bottom: 1px solid gray;flex-grow: 1;}#sk-container-id-4 div.sk-label:hover label.sk-toggleable__label {background-color: #d4ebff;}#sk-container-id-4 div.sk-serial::before {content: \"\";position: absolute;border-left: 1px solid gray;box-sizing: border-box;top: 0;bottom: 0;left: 50%;z-index: 0;}#sk-container-id-4 div.sk-serial {display: flex;flex-direction: column;align-items: center;background-color: white;padding-right: 0.2em;padding-left: 0.2em;position: relative;}#sk-container-id-4 div.sk-item {position: relative;z-index: 1;}#sk-container-id-4 div.sk-parallel {display: flex;align-items: stretch;justify-content: center;background-color: white;position: relative;}#sk-container-id-4 div.sk-item::before, #sk-container-id-4 div.sk-parallel-item::before {content: \"\";position: absolute;border-left: 1px solid gray;box-sizing: border-box;top: 0;bottom: 0;left: 50%;z-index: -1;}#sk-container-id-4 div.sk-parallel-item {display: flex;flex-direction: column;z-index: 1;position: relative;background-color: white;}#sk-container-id-4 div.sk-parallel-item:first-child::after {align-self: flex-end;width: 50%;}#sk-container-id-4 div.sk-parallel-item:last-child::after {align-self: flex-start;width: 50%;}#sk-container-id-4 div.sk-parallel-item:only-child::after {width: 0;}#sk-container-id-4 div.sk-dashed-wrapped {border: 1px dashed gray;margin: 0 0.4em 0.5em 0.4em;box-sizing: border-box;padding-bottom: 0.4em;background-color: white;}#sk-container-id-4 div.sk-label label {font-family: monospace;font-weight: bold;display: inline-block;line-height: 1.2em;}#sk-container-id-4 div.sk-label-container {text-align: center;}#sk-container-id-4 div.sk-container {/* jupyter's `normalize.less` sets `[hidden] { display: none; }` but bootstrap.min.css set `[hidden] { display: none !important; }` so we also need the `!important` here to be able to override the default hidden behavior on the sphinx rendered scikit-learn.org. See: https://github.com/scikit-learn/scikit-learn/issues/21755 */display: inline-block !important;position: relative;}#sk-container-id-4 div.sk-text-repr-fallback {display: none;}</style><div id=\"sk-container-id-4\" class=\"sk-top-container\"><div class=\"sk-text-repr-fallback\"><pre>DecisionTreeClassifier()</pre><b>In a Jupyter environment, please rerun this cell to show the HTML representation or trust the notebook. <br />On GitHub, the HTML representation is unable to render, please try loading this page with nbviewer.org.</b></div><div class=\"sk-container\" hidden><div class=\"sk-item\"><div class=\"sk-estimator sk-toggleable\"><input class=\"sk-toggleable__control sk-hidden--visually\" id=\"sk-estimator-id-4\" type=\"checkbox\" checked><label for=\"sk-estimator-id-4\" class=\"sk-toggleable__label sk-toggleable__label-arrow\">DecisionTreeClassifier</label><div class=\"sk-toggleable__content\"><pre>DecisionTreeClassifier()</pre></div></div></div></div></div>"
     },
     "execution_count": 147,
     "metadata": {},
     "output_type": "execute_result"
    }
   ],
   "source": [
    "# Initialize the Decision Tree classifier\n",
    "clf = DecisionTreeClassifier()\n",
    "# Train the classifier\n",
    "\n",
    "clf.fit(x_training,y_train)"
   ]
  },
  {
   "cell_type": "code",
   "execution_count": 148,
   "id": "92880442",
   "metadata": {
    "ExecuteTime": {
     "end_time": "2024-01-09T10:00:22.788304400Z",
     "start_time": "2024-01-09T10:00:22.664726600Z"
    }
   },
   "outputs": [],
   "source": [
    "#make prediction on the testing data\n",
    "y_pred = clf.predict(x_testing)"
   ]
  },
  {
   "cell_type": "code",
   "execution_count": 166,
   "id": "f6618dc1",
   "metadata": {
    "ExecuteTime": {
     "end_time": "2024-01-09T10:27:01.024748Z",
     "start_time": "2024-01-09T10:27:00.952307900Z"
    }
   },
   "outputs": [],
   "source": [
    "accuracy = accuracy_score(y_test, y_pred)\n",
    "precision = precision_score(y_test, y_pred, average='weighted')\n",
    "recall = recall_score(y_test, y_pred, average='weighted')\n",
    "F1_score = f1_score(y_test, y_pred, average='weighted')"
   ]
  },
  {
   "cell_type": "code",
   "execution_count": 167,
   "outputs": [
    {
     "name": "stdout",
     "output_type": "stream",
     "text": [
      "Accuracy:  0.9161142938307846\n",
      "Precision:  0.916114869021175\n",
      "Recall:  0.9161142938307846\n",
      "F1_Score:  0.9160250534828689\n"
     ]
    }
   ],
   "source": [
    "print(\"Accuracy: \", accuracy)\n",
    "print(\"Precision: \", precision)\n",
    "print(\"Recall: \", recall)\n",
    "print(\"F1_Score: \", F1_score)"
   ],
   "metadata": {
    "collapsed": false,
    "ExecuteTime": {
     "end_time": "2024-01-09T10:27:02.269838400Z",
     "start_time": "2024-01-09T10:27:02.269331Z"
    }
   },
   "id": "33c3f7938ee2860b"
  }
 ],
 "metadata": {
  "kernelspec": {
   "display_name": "Python 3 (ipykernel)",
   "language": "python",
   "name": "python3"
  },
  "language_info": {
   "codemirror_mode": {
    "name": "ipython",
    "version": 3
   },
   "file_extension": ".py",
   "mimetype": "text/x-python",
   "name": "python",
   "nbconvert_exporter": "python",
   "pygments_lexer": "ipython3",
   "version": "3.11.5"
  }
 },
 "nbformat": 4,
 "nbformat_minor": 5
}
